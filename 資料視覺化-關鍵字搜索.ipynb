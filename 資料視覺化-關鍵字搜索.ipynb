{
 "cells": [
  {
   "cell_type": "code",
   "execution_count": 1,
   "metadata": {
    "id": "eEQTFIWHXvgZ"
   },
   "outputs": [],
   "source": [
    "###法律黑客松--第九組「上訴小幫手」"
   ]
  },
  {
   "cell_type": "code",
   "execution_count": 1,
   "metadata": {
    "id": "SCCPBvnKXvgd",
    "outputId": "fe47687e-9632-4865-8d9b-f80ab5f2c4db"
   },
   "outputs": [
    {
     "data": {
      "text/html": [
       "<div>\n",
       "<style scoped>\n",
       "    .dataframe tbody tr th:only-of-type {\n",
       "        vertical-align: middle;\n",
       "    }\n",
       "\n",
       "    .dataframe tbody tr th {\n",
       "        vertical-align: top;\n",
       "    }\n",
       "\n",
       "    .dataframe thead th {\n",
       "        text-align: right;\n",
       "    }\n",
       "</style>\n",
       "<table border=\"1\" class=\"dataframe\">\n",
       "  <thead>\n",
       "    <tr style=\"text-align: right;\">\n",
       "      <th></th>\n",
       "      <th>裁判字號</th>\n",
       "      <th>裁判日期</th>\n",
       "      <th>裁判案由</th>\n",
       "      <th>內文</th>\n",
       "      <th>主文</th>\n",
       "      <th>是否被駁回</th>\n",
       "    </tr>\n",
       "  </thead>\n",
       "  <tbody>\n",
       "    <tr>\n",
       "      <th>0</th>\n",
       "      <td>\\r\\n                    臺灣高等法院 110 年上易字第 295 號...</td>\n",
       "      <td>\\r\\n                    民國 110 年 06 月 29 日</td>\n",
       "      <td>\\r\\n                    侵權行為損害賠償\\r\\n          ...</td>\n",
       "      <td>\\n\\n\\n\\n臺灣高等法院民事判決110年度上易字第295號上  訴  人  周楷翔  訴...</td>\n",
       "      <td>\\n\\n\\n\\n臺灣高等法院民事判決110年度上易字第295號上  訴  人  周楷翔  訴...</td>\n",
       "      <td>yes</td>\n",
       "    </tr>\n",
       "    <tr>\n",
       "      <th>1</th>\n",
       "      <td>\\r\\n                    臺灣高等法院 109 年上易字第 1122 ...</td>\n",
       "      <td>\\r\\n                    民國 110 年 05 月 26 日</td>\n",
       "      <td>\\r\\n                    損害賠償\\r\\n</td>\n",
       "      <td>\\n\\n\\n\\n臺灣高等法院民事判決109年度上易字第1122號上  訴  人  黃建融  ...</td>\n",
       "      <td>\\n\\n\\n\\n臺灣高等法院民事判決109年度上易字第1122號上  訴  人  黃建融  ...</td>\n",
       "      <td>yes</td>\n",
       "    </tr>\n",
       "    <tr>\n",
       "      <th>2</th>\n",
       "      <td>\\r\\n                    臺灣高等法院 109 年上易字第 275 號...</td>\n",
       "      <td>\\r\\n                    民國 110 年 05 月 26 日</td>\n",
       "      <td>\\r\\n                    侵權行為損害賠償\\r\\n          ...</td>\n",
       "      <td>\\n\\n\\n\\n臺灣高等法院民事判決109年度上易字第275號上訴人即附帶被上訴人  來泰廷...</td>\n",
       "      <td>\\n\\n\\n\\n臺灣高等法院民事判決109年度上易字第275號上訴人即附帶被上訴人  來泰廷...</td>\n",
       "      <td>yes</td>\n",
       "    </tr>\n",
       "    <tr>\n",
       "      <th>3</th>\n",
       "      <td>\\r\\n                    臺灣高等法院 109 年上易字第 1231 ...</td>\n",
       "      <td>\\r\\n                    民國 110 年 05 月 19 日</td>\n",
       "      <td>\\r\\n                    侵權行為損害賠償\\r\\n          ...</td>\n",
       "      <td>\\n\\n\\n\\n臺灣高等法院民事判決109年度上易字第1231號上  訴  人  莊淵棋（兼...</td>\n",
       "      <td>\\n\\n\\n\\n臺灣高等法院民事判決109年度上易字第1231號上  訴  人  莊淵棋（兼...</td>\n",
       "      <td>yes</td>\n",
       "    </tr>\n",
       "    <tr>\n",
       "      <th>4</th>\n",
       "      <td>\\r\\n                    臺灣高等法院 110 年上易字第 107 號...</td>\n",
       "      <td>\\r\\n                    民國 110 年 05 月 12 日</td>\n",
       "      <td>\\r\\n                    損害賠償\\r\\n</td>\n",
       "      <td>\\n\\n\\n\\n臺灣高等法院民事判決110年度上易字第107號上  訴  人  鄭國欽  被...</td>\n",
       "      <td>\\n\\n\\n\\n臺灣高等法院民事判決110年度上易字第107號上  訴  人  鄭國欽  被...</td>\n",
       "      <td>yes</td>\n",
       "    </tr>\n",
       "    <tr>\n",
       "      <th>...</th>\n",
       "      <td>...</td>\n",
       "      <td>...</td>\n",
       "      <td>...</td>\n",
       "      <td>...</td>\n",
       "      <td>...</td>\n",
       "      <td>...</td>\n",
       "    </tr>\n",
       "    <tr>\n",
       "      <th>448</th>\n",
       "      <td>\\r\\n                    臺灣高等法院 103 年上易字第 720 號...</td>\n",
       "      <td>\\r\\n                    民國 104 年 01 月 14 日</td>\n",
       "      <td>\\r\\n                    損害賠償\\r\\n</td>\n",
       "      <td>\\n\\n\\n\\n\\n臺灣高等法院民事判決　　　　　　　　103年度上易字第720號\\r\\n上...</td>\n",
       "      <td>\\r\\n原判決關於駁回被上訴人李美芳後開第二項之訴部分，及該部分\\r\\n假執行之聲請，暨訴訟...</td>\n",
       "      <td>yes</td>\n",
       "    </tr>\n",
       "    <tr>\n",
       "      <th>449</th>\n",
       "      <td>\\r\\n                    臺灣高等法院 102 年上易字第 969 號...</td>\n",
       "      <td>\\r\\n                    民國 104 年 01 月 14 日</td>\n",
       "      <td>\\r\\n                    損害賠償\\r\\n</td>\n",
       "      <td>\\n\\n\\n\\n\\n臺灣高等法院民事判決　　　　　　　　102年度上易字第969號\\r\\n上...</td>\n",
       "      <td>\\n\\n\\n\\n\\n臺灣高等法院民事判決　　　　　　　　102年度上易字第969號\\r\\n上...</td>\n",
       "      <td>yes</td>\n",
       "    </tr>\n",
       "    <tr>\n",
       "      <th>450</th>\n",
       "      <td>\\r\\n                    臺灣高等法院 103 年上易字第 1251 ...</td>\n",
       "      <td>\\r\\n                    民國 104 年 01 月 13 日</td>\n",
       "      <td>\\r\\n                    侵權行為損害賠償\\r\\n          ...</td>\n",
       "      <td>\\n\\n\\n\\n\\n臺灣高等法院民事判決　　　　　　　 103年度上易字第1251號\\r\\n...</td>\n",
       "      <td>\\r\\n原判決關於駁回上訴人後開第二項之訴部分，暨訴訟費用（除確\\r\\n定部分外）之裁判均廢...</td>\n",
       "      <td>yes</td>\n",
       "    </tr>\n",
       "    <tr>\n",
       "      <th>451</th>\n",
       "      <td>\\r\\n                    臺灣高等法院 103 年上易字第 1047 ...</td>\n",
       "      <td>\\r\\n                    民國 104 年 01 月 06 日</td>\n",
       "      <td>\\r\\n                    損害賠償\\r\\n</td>\n",
       "      <td>\\n\\n\\n\\n\\n臺灣高等法院民事判決　　　　　　　 103年度上易字第1047號\\r\\n...</td>\n",
       "      <td>\\n\\n\\n\\n\\n臺灣高等法院民事判決　　　　　　　 103年度上易字第1047號\\r\\n...</td>\n",
       "      <td>yes</td>\n",
       "    </tr>\n",
       "    <tr>\n",
       "      <th>452</th>\n",
       "      <td>\\r\\n                    臺灣高等法院 102 年上字第 1198 號...</td>\n",
       "      <td>\\r\\n                    民國 104 年 01 月 06 日</td>\n",
       "      <td>\\r\\n                    侵權行為損害賠償\\r\\n          ...</td>\n",
       "      <td>\\n\\n\\n\\n\\n臺灣高等法院民事判決　　　　　　　　 102年度上字第1198號\\r\\n...</td>\n",
       "      <td>\\r\\n原判決關於命上訴人給付逾新臺幣壹佰柒拾壹萬零玖佰捌拾伍元\\r\\n本息，及該部分假執行...</td>\n",
       "      <td>yes</td>\n",
       "    </tr>\n",
       "  </tbody>\n",
       "</table>\n",
       "<p>453 rows × 6 columns</p>\n",
       "</div>"
      ],
      "text/plain": [
       "                                                  裁判字號  \\\n",
       "0    \\r\\n                    臺灣高等法院 110 年上易字第 295 號...   \n",
       "1    \\r\\n                    臺灣高等法院 109 年上易字第 1122 ...   \n",
       "2    \\r\\n                    臺灣高等法院 109 年上易字第 275 號...   \n",
       "3    \\r\\n                    臺灣高等法院 109 年上易字第 1231 ...   \n",
       "4    \\r\\n                    臺灣高等法院 110 年上易字第 107 號...   \n",
       "..                                                 ...   \n",
       "448  \\r\\n                    臺灣高等法院 103 年上易字第 720 號...   \n",
       "449  \\r\\n                    臺灣高等法院 102 年上易字第 969 號...   \n",
       "450  \\r\\n                    臺灣高等法院 103 年上易字第 1251 ...   \n",
       "451  \\r\\n                    臺灣高等法院 103 年上易字第 1047 ...   \n",
       "452  \\r\\n                    臺灣高等法院 102 年上字第 1198 號...   \n",
       "\n",
       "                                           裁判日期  \\\n",
       "0    \\r\\n                    民國 110 年 06 月 29 日   \n",
       "1    \\r\\n                    民國 110 年 05 月 26 日   \n",
       "2    \\r\\n                    民國 110 年 05 月 26 日   \n",
       "3    \\r\\n                    民國 110 年 05 月 19 日   \n",
       "4    \\r\\n                    民國 110 年 05 月 12 日   \n",
       "..                                          ...   \n",
       "448  \\r\\n                    民國 104 年 01 月 14 日   \n",
       "449  \\r\\n                    民國 104 年 01 月 14 日   \n",
       "450  \\r\\n                    民國 104 年 01 月 13 日   \n",
       "451  \\r\\n                    民國 104 年 01 月 06 日   \n",
       "452  \\r\\n                    民國 104 年 01 月 06 日   \n",
       "\n",
       "                                                  裁判案由  \\\n",
       "0    \\r\\n                    侵權行為損害賠償\\r\\n          ...   \n",
       "1     \\r\\n                    損害賠償\\r\\n                   \n",
       "2    \\r\\n                    侵權行為損害賠償\\r\\n          ...   \n",
       "3    \\r\\n                    侵權行為損害賠償\\r\\n          ...   \n",
       "4     \\r\\n                    損害賠償\\r\\n                   \n",
       "..                                                 ...   \n",
       "448   \\r\\n                    損害賠償\\r\\n                   \n",
       "449   \\r\\n                    損害賠償\\r\\n                   \n",
       "450  \\r\\n                    侵權行為損害賠償\\r\\n          ...   \n",
       "451   \\r\\n                    損害賠償\\r\\n                   \n",
       "452  \\r\\n                    侵權行為損害賠償\\r\\n          ...   \n",
       "\n",
       "                                                    內文  \\\n",
       "0    \\n\\n\\n\\n臺灣高等法院民事判決110年度上易字第295號上  訴  人  周楷翔  訴...   \n",
       "1    \\n\\n\\n\\n臺灣高等法院民事判決109年度上易字第1122號上  訴  人  黃建融  ...   \n",
       "2    \\n\\n\\n\\n臺灣高等法院民事判決109年度上易字第275號上訴人即附帶被上訴人  來泰廷...   \n",
       "3    \\n\\n\\n\\n臺灣高等法院民事判決109年度上易字第1231號上  訴  人  莊淵棋（兼...   \n",
       "4    \\n\\n\\n\\n臺灣高等法院民事判決110年度上易字第107號上  訴  人  鄭國欽  被...   \n",
       "..                                                 ...   \n",
       "448  \\n\\n\\n\\n\\n臺灣高等法院民事判決　　　　　　　　103年度上易字第720號\\r\\n上...   \n",
       "449  \\n\\n\\n\\n\\n臺灣高等法院民事判決　　　　　　　　102年度上易字第969號\\r\\n上...   \n",
       "450  \\n\\n\\n\\n\\n臺灣高等法院民事判決　　　　　　　 103年度上易字第1251號\\r\\n...   \n",
       "451  \\n\\n\\n\\n\\n臺灣高等法院民事判決　　　　　　　 103年度上易字第1047號\\r\\n...   \n",
       "452  \\n\\n\\n\\n\\n臺灣高等法院民事判決　　　　　　　　 102年度上字第1198號\\r\\n...   \n",
       "\n",
       "                                                    主文 是否被駁回  \n",
       "0    \\n\\n\\n\\n臺灣高等法院民事判決110年度上易字第295號上  訴  人  周楷翔  訴...   yes  \n",
       "1    \\n\\n\\n\\n臺灣高等法院民事判決109年度上易字第1122號上  訴  人  黃建融  ...   yes  \n",
       "2    \\n\\n\\n\\n臺灣高等法院民事判決109年度上易字第275號上訴人即附帶被上訴人  來泰廷...   yes  \n",
       "3    \\n\\n\\n\\n臺灣高等法院民事判決109年度上易字第1231號上  訴  人  莊淵棋（兼...   yes  \n",
       "4    \\n\\n\\n\\n臺灣高等法院民事判決110年度上易字第107號上  訴  人  鄭國欽  被...   yes  \n",
       "..                                                 ...   ...  \n",
       "448  \\r\\n原判決關於駁回被上訴人李美芳後開第二項之訴部分，及該部分\\r\\n假執行之聲請，暨訴訟...   yes  \n",
       "449  \\n\\n\\n\\n\\n臺灣高等法院民事判決　　　　　　　　102年度上易字第969號\\r\\n上...   yes  \n",
       "450  \\r\\n原判決關於駁回上訴人後開第二項之訴部分，暨訴訟費用（除確\\r\\n定部分外）之裁判均廢...   yes  \n",
       "451  \\n\\n\\n\\n\\n臺灣高等法院民事判決　　　　　　　 103年度上易字第1047號\\r\\n...   yes  \n",
       "452  \\r\\n原判決關於命上訴人給付逾新臺幣壹佰柒拾壹萬零玖佰捌拾伍元\\r\\n本息，及該部分假執行...   yes  \n",
       "\n",
       "[453 rows x 6 columns]"
      ]
     },
     "execution_count": 1,
     "metadata": {},
     "output_type": "execute_result"
    }
   ],
   "source": [
    "#匯入資料-車禍\n",
    "import pandas as pd\n",
    "\n",
    "#將第0欄位當作index\n",
    "data = pd.read_csv(\"law_final.csv\",index_col=0) \n",
    "#從內文分割出主文內容\n",
    "main=[]\n",
    "for i in data[\"內文\"]:\n",
    "    a=i.split(\"    主  文\")\n",
    "    main.append(a[-1])\n",
    "\n",
    "main2=[]\n",
    "for i in main:\n",
    "    a=i.split(\"    理  由\")\n",
    "    main2.append(a[0])\n",
    "data[\"主文\"]= main2\n",
    "\n",
    "#新增一欄「是否被駁回」，如果主文中出現「訴駁回」，就在該欄輸入yes，否則輸入no\n",
    "是否被駁回=[]\n",
    "for i in data[\"主文\"]:\n",
    "    if \"訴駁回\" in i:\n",
    "        是否被駁回.append(\"yes\")\n",
    "    else:\n",
    "        是否被駁回.append(\"no\")\n",
    "data[\"是否被駁回\"]=是否被駁回\n",
    "\n",
    "data.head(len(data))"
   ]
  },
  {
   "cell_type": "code",
   "execution_count": null,
   "metadata": {
    "id": "VEI43lrrXvgg",
    "outputId": "2c2fc038-56eb-48ee-8e2c-90d63f27648f"
   },
   "outputs": [],
   "source": [
    "#資料視覺化\n",
    "import plotly.express as px\n",
    "df = pd.DataFrame([\n",
    "    ['上訴廢棄發回或改判', 453-416],['上訴駁回維持原判', 416]], \n",
    "    columns=['類型', '案件數量'])\n",
    "fig = px.pie(df, values='案件數量', names='類型', title='台灣高等法院 交通事件維持率分佈')\n",
    "\n",
    "fig.update_traces(textposition='inside', textinfo='percent+label', insidetextorientation='radial')\n",
    "\n",
    "fig.show()"
   ]
  },
  {
   "cell_type": "code",
   "execution_count": 72,
   "metadata": {},
   "outputs": [],
   "source": [
    "import pandas as pd\n",
    "#關鍵字搜索\n",
    "def reason(x):\n",
    "    number_count=0\n",
    "    #找尋關鍵字數量\n",
    "    number_word =data[data[\"內文\"].str.contains(x)]\n",
    "    old_number = len(number_word)\n",
    "    \n",
    "    #找尋出關鍵字中有幾篇被駁回\n",
    "    for i in number_word[\"是否被駁回\"]:\n",
    "        #算出被駁回\n",
    "        if \"yes\" in i:\n",
    "            number_count+=1\n",
    "    \n",
    "    not_number_count = old_number - number_count\n",
    "    \n",
    "    df = pd.DataFrame([\n",
    "        [x+'&上訴廢棄發回或改判', not_number_count],[x+'&上訴駁回維持原判', number_count]], \n",
    "        columns=['類型', '案件數量'])\n",
    "    fig = px.pie(df, values='案件數量', names='類型', title='台灣高等法院 交通事件&'+x+ '維持率分佈')\n",
    "\n",
    "    fig.update_traces(textposition='inside', textinfo='percent+label', insidetextorientation='radial')\n",
    "\n",
    "    fig.show()"
   ]
  },
  {
   "cell_type": "code",
   "execution_count": 76,
   "metadata": {},
   "outputs": [
    {
     "data": {
      "application/vnd.plotly.v1+json": {
       "config": {
        "plotlyServerURL": "https://plot.ly"
       },
       "data": [
        {
         "domain": {
          "x": [
           0,
           1
          ],
          "y": [
           0,
           1
          ]
         },
         "hovertemplate": "類型=%{label}<br>案件數量=%{value}<extra></extra>",
         "insidetextorientation": "radial",
         "labels": [
          "肇事逃逸&上訴廢棄發回或改判",
          "肇事逃逸&上訴駁回維持原判"
         ],
         "legendgroup": "",
         "name": "",
         "showlegend": true,
         "textinfo": "percent+label",
         "textposition": "inside",
         "type": "pie",
         "values": [
          1,
          6
         ]
        }
       ],
       "layout": {
        "legend": {
         "tracegroupgap": 0
        },
        "template": {
         "data": {
          "bar": [
           {
            "error_x": {
             "color": "#2a3f5f"
            },
            "error_y": {
             "color": "#2a3f5f"
            },
            "marker": {
             "line": {
              "color": "#E5ECF6",
              "width": 0.5
             }
            },
            "type": "bar"
           }
          ],
          "barpolar": [
           {
            "marker": {
             "line": {
              "color": "#E5ECF6",
              "width": 0.5
             }
            },
            "type": "barpolar"
           }
          ],
          "carpet": [
           {
            "aaxis": {
             "endlinecolor": "#2a3f5f",
             "gridcolor": "white",
             "linecolor": "white",
             "minorgridcolor": "white",
             "startlinecolor": "#2a3f5f"
            },
            "baxis": {
             "endlinecolor": "#2a3f5f",
             "gridcolor": "white",
             "linecolor": "white",
             "minorgridcolor": "white",
             "startlinecolor": "#2a3f5f"
            },
            "type": "carpet"
           }
          ],
          "choropleth": [
           {
            "colorbar": {
             "outlinewidth": 0,
             "ticks": ""
            },
            "type": "choropleth"
           }
          ],
          "contour": [
           {
            "colorbar": {
             "outlinewidth": 0,
             "ticks": ""
            },
            "colorscale": [
             [
              0,
              "#0d0887"
             ],
             [
              0.1111111111111111,
              "#46039f"
             ],
             [
              0.2222222222222222,
              "#7201a8"
             ],
             [
              0.3333333333333333,
              "#9c179e"
             ],
             [
              0.4444444444444444,
              "#bd3786"
             ],
             [
              0.5555555555555556,
              "#d8576b"
             ],
             [
              0.6666666666666666,
              "#ed7953"
             ],
             [
              0.7777777777777778,
              "#fb9f3a"
             ],
             [
              0.8888888888888888,
              "#fdca26"
             ],
             [
              1,
              "#f0f921"
             ]
            ],
            "type": "contour"
           }
          ],
          "contourcarpet": [
           {
            "colorbar": {
             "outlinewidth": 0,
             "ticks": ""
            },
            "type": "contourcarpet"
           }
          ],
          "heatmap": [
           {
            "colorbar": {
             "outlinewidth": 0,
             "ticks": ""
            },
            "colorscale": [
             [
              0,
              "#0d0887"
             ],
             [
              0.1111111111111111,
              "#46039f"
             ],
             [
              0.2222222222222222,
              "#7201a8"
             ],
             [
              0.3333333333333333,
              "#9c179e"
             ],
             [
              0.4444444444444444,
              "#bd3786"
             ],
             [
              0.5555555555555556,
              "#d8576b"
             ],
             [
              0.6666666666666666,
              "#ed7953"
             ],
             [
              0.7777777777777778,
              "#fb9f3a"
             ],
             [
              0.8888888888888888,
              "#fdca26"
             ],
             [
              1,
              "#f0f921"
             ]
            ],
            "type": "heatmap"
           }
          ],
          "heatmapgl": [
           {
            "colorbar": {
             "outlinewidth": 0,
             "ticks": ""
            },
            "colorscale": [
             [
              0,
              "#0d0887"
             ],
             [
              0.1111111111111111,
              "#46039f"
             ],
             [
              0.2222222222222222,
              "#7201a8"
             ],
             [
              0.3333333333333333,
              "#9c179e"
             ],
             [
              0.4444444444444444,
              "#bd3786"
             ],
             [
              0.5555555555555556,
              "#d8576b"
             ],
             [
              0.6666666666666666,
              "#ed7953"
             ],
             [
              0.7777777777777778,
              "#fb9f3a"
             ],
             [
              0.8888888888888888,
              "#fdca26"
             ],
             [
              1,
              "#f0f921"
             ]
            ],
            "type": "heatmapgl"
           }
          ],
          "histogram": [
           {
            "marker": {
             "colorbar": {
              "outlinewidth": 0,
              "ticks": ""
             }
            },
            "type": "histogram"
           }
          ],
          "histogram2d": [
           {
            "colorbar": {
             "outlinewidth": 0,
             "ticks": ""
            },
            "colorscale": [
             [
              0,
              "#0d0887"
             ],
             [
              0.1111111111111111,
              "#46039f"
             ],
             [
              0.2222222222222222,
              "#7201a8"
             ],
             [
              0.3333333333333333,
              "#9c179e"
             ],
             [
              0.4444444444444444,
              "#bd3786"
             ],
             [
              0.5555555555555556,
              "#d8576b"
             ],
             [
              0.6666666666666666,
              "#ed7953"
             ],
             [
              0.7777777777777778,
              "#fb9f3a"
             ],
             [
              0.8888888888888888,
              "#fdca26"
             ],
             [
              1,
              "#f0f921"
             ]
            ],
            "type": "histogram2d"
           }
          ],
          "histogram2dcontour": [
           {
            "colorbar": {
             "outlinewidth": 0,
             "ticks": ""
            },
            "colorscale": [
             [
              0,
              "#0d0887"
             ],
             [
              0.1111111111111111,
              "#46039f"
             ],
             [
              0.2222222222222222,
              "#7201a8"
             ],
             [
              0.3333333333333333,
              "#9c179e"
             ],
             [
              0.4444444444444444,
              "#bd3786"
             ],
             [
              0.5555555555555556,
              "#d8576b"
             ],
             [
              0.6666666666666666,
              "#ed7953"
             ],
             [
              0.7777777777777778,
              "#fb9f3a"
             ],
             [
              0.8888888888888888,
              "#fdca26"
             ],
             [
              1,
              "#f0f921"
             ]
            ],
            "type": "histogram2dcontour"
           }
          ],
          "mesh3d": [
           {
            "colorbar": {
             "outlinewidth": 0,
             "ticks": ""
            },
            "type": "mesh3d"
           }
          ],
          "parcoords": [
           {
            "line": {
             "colorbar": {
              "outlinewidth": 0,
              "ticks": ""
             }
            },
            "type": "parcoords"
           }
          ],
          "pie": [
           {
            "automargin": true,
            "type": "pie"
           }
          ],
          "scatter": [
           {
            "marker": {
             "colorbar": {
              "outlinewidth": 0,
              "ticks": ""
             }
            },
            "type": "scatter"
           }
          ],
          "scatter3d": [
           {
            "line": {
             "colorbar": {
              "outlinewidth": 0,
              "ticks": ""
             }
            },
            "marker": {
             "colorbar": {
              "outlinewidth": 0,
              "ticks": ""
             }
            },
            "type": "scatter3d"
           }
          ],
          "scattercarpet": [
           {
            "marker": {
             "colorbar": {
              "outlinewidth": 0,
              "ticks": ""
             }
            },
            "type": "scattercarpet"
           }
          ],
          "scattergeo": [
           {
            "marker": {
             "colorbar": {
              "outlinewidth": 0,
              "ticks": ""
             }
            },
            "type": "scattergeo"
           }
          ],
          "scattergl": [
           {
            "marker": {
             "colorbar": {
              "outlinewidth": 0,
              "ticks": ""
             }
            },
            "type": "scattergl"
           }
          ],
          "scattermapbox": [
           {
            "marker": {
             "colorbar": {
              "outlinewidth": 0,
              "ticks": ""
             }
            },
            "type": "scattermapbox"
           }
          ],
          "scatterpolar": [
           {
            "marker": {
             "colorbar": {
              "outlinewidth": 0,
              "ticks": ""
             }
            },
            "type": "scatterpolar"
           }
          ],
          "scatterpolargl": [
           {
            "marker": {
             "colorbar": {
              "outlinewidth": 0,
              "ticks": ""
             }
            },
            "type": "scatterpolargl"
           }
          ],
          "scatterternary": [
           {
            "marker": {
             "colorbar": {
              "outlinewidth": 0,
              "ticks": ""
             }
            },
            "type": "scatterternary"
           }
          ],
          "surface": [
           {
            "colorbar": {
             "outlinewidth": 0,
             "ticks": ""
            },
            "colorscale": [
             [
              0,
              "#0d0887"
             ],
             [
              0.1111111111111111,
              "#46039f"
             ],
             [
              0.2222222222222222,
              "#7201a8"
             ],
             [
              0.3333333333333333,
              "#9c179e"
             ],
             [
              0.4444444444444444,
              "#bd3786"
             ],
             [
              0.5555555555555556,
              "#d8576b"
             ],
             [
              0.6666666666666666,
              "#ed7953"
             ],
             [
              0.7777777777777778,
              "#fb9f3a"
             ],
             [
              0.8888888888888888,
              "#fdca26"
             ],
             [
              1,
              "#f0f921"
             ]
            ],
            "type": "surface"
           }
          ],
          "table": [
           {
            "cells": {
             "fill": {
              "color": "#EBF0F8"
             },
             "line": {
              "color": "white"
             }
            },
            "header": {
             "fill": {
              "color": "#C8D4E3"
             },
             "line": {
              "color": "white"
             }
            },
            "type": "table"
           }
          ]
         },
         "layout": {
          "annotationdefaults": {
           "arrowcolor": "#2a3f5f",
           "arrowhead": 0,
           "arrowwidth": 1
          },
          "autotypenumbers": "strict",
          "coloraxis": {
           "colorbar": {
            "outlinewidth": 0,
            "ticks": ""
           }
          },
          "colorscale": {
           "diverging": [
            [
             0,
             "#8e0152"
            ],
            [
             0.1,
             "#c51b7d"
            ],
            [
             0.2,
             "#de77ae"
            ],
            [
             0.3,
             "#f1b6da"
            ],
            [
             0.4,
             "#fde0ef"
            ],
            [
             0.5,
             "#f7f7f7"
            ],
            [
             0.6,
             "#e6f5d0"
            ],
            [
             0.7,
             "#b8e186"
            ],
            [
             0.8,
             "#7fbc41"
            ],
            [
             0.9,
             "#4d9221"
            ],
            [
             1,
             "#276419"
            ]
           ],
           "sequential": [
            [
             0,
             "#0d0887"
            ],
            [
             0.1111111111111111,
             "#46039f"
            ],
            [
             0.2222222222222222,
             "#7201a8"
            ],
            [
             0.3333333333333333,
             "#9c179e"
            ],
            [
             0.4444444444444444,
             "#bd3786"
            ],
            [
             0.5555555555555556,
             "#d8576b"
            ],
            [
             0.6666666666666666,
             "#ed7953"
            ],
            [
             0.7777777777777778,
             "#fb9f3a"
            ],
            [
             0.8888888888888888,
             "#fdca26"
            ],
            [
             1,
             "#f0f921"
            ]
           ],
           "sequentialminus": [
            [
             0,
             "#0d0887"
            ],
            [
             0.1111111111111111,
             "#46039f"
            ],
            [
             0.2222222222222222,
             "#7201a8"
            ],
            [
             0.3333333333333333,
             "#9c179e"
            ],
            [
             0.4444444444444444,
             "#bd3786"
            ],
            [
             0.5555555555555556,
             "#d8576b"
            ],
            [
             0.6666666666666666,
             "#ed7953"
            ],
            [
             0.7777777777777778,
             "#fb9f3a"
            ],
            [
             0.8888888888888888,
             "#fdca26"
            ],
            [
             1,
             "#f0f921"
            ]
           ]
          },
          "colorway": [
           "#636efa",
           "#EF553B",
           "#00cc96",
           "#ab63fa",
           "#FFA15A",
           "#19d3f3",
           "#FF6692",
           "#B6E880",
           "#FF97FF",
           "#FECB52"
          ],
          "font": {
           "color": "#2a3f5f"
          },
          "geo": {
           "bgcolor": "white",
           "lakecolor": "white",
           "landcolor": "#E5ECF6",
           "showlakes": true,
           "showland": true,
           "subunitcolor": "white"
          },
          "hoverlabel": {
           "align": "left"
          },
          "hovermode": "closest",
          "mapbox": {
           "style": "light"
          },
          "paper_bgcolor": "white",
          "plot_bgcolor": "#E5ECF6",
          "polar": {
           "angularaxis": {
            "gridcolor": "white",
            "linecolor": "white",
            "ticks": ""
           },
           "bgcolor": "#E5ECF6",
           "radialaxis": {
            "gridcolor": "white",
            "linecolor": "white",
            "ticks": ""
           }
          },
          "scene": {
           "xaxis": {
            "backgroundcolor": "#E5ECF6",
            "gridcolor": "white",
            "gridwidth": 2,
            "linecolor": "white",
            "showbackground": true,
            "ticks": "",
            "zerolinecolor": "white"
           },
           "yaxis": {
            "backgroundcolor": "#E5ECF6",
            "gridcolor": "white",
            "gridwidth": 2,
            "linecolor": "white",
            "showbackground": true,
            "ticks": "",
            "zerolinecolor": "white"
           },
           "zaxis": {
            "backgroundcolor": "#E5ECF6",
            "gridcolor": "white",
            "gridwidth": 2,
            "linecolor": "white",
            "showbackground": true,
            "ticks": "",
            "zerolinecolor": "white"
           }
          },
          "shapedefaults": {
           "line": {
            "color": "#2a3f5f"
           }
          },
          "ternary": {
           "aaxis": {
            "gridcolor": "white",
            "linecolor": "white",
            "ticks": ""
           },
           "baxis": {
            "gridcolor": "white",
            "linecolor": "white",
            "ticks": ""
           },
           "bgcolor": "#E5ECF6",
           "caxis": {
            "gridcolor": "white",
            "linecolor": "white",
            "ticks": ""
           }
          },
          "title": {
           "x": 0.05
          },
          "xaxis": {
           "automargin": true,
           "gridcolor": "white",
           "linecolor": "white",
           "ticks": "",
           "title": {
            "standoff": 15
           },
           "zerolinecolor": "white",
           "zerolinewidth": 2
          },
          "yaxis": {
           "automargin": true,
           "gridcolor": "white",
           "linecolor": "white",
           "ticks": "",
           "title": {
            "standoff": 15
           },
           "zerolinecolor": "white",
           "zerolinewidth": 2
          }
         }
        },
        "title": {
         "text": "台灣高等法院 交通事件&肇事逃逸維持率分佈"
        }
       }
      },
      "text/html": [
       "<div>                            <div id=\"5ae0aa5a-1e0c-41f8-a153-ce7c7435d360\" class=\"plotly-graph-div\" style=\"height:525px; width:100%;\"></div>            <script type=\"text/javascript\">                require([\"plotly\"], function(Plotly) {                    window.PLOTLYENV=window.PLOTLYENV || {};                                    if (document.getElementById(\"5ae0aa5a-1e0c-41f8-a153-ce7c7435d360\")) {                    Plotly.newPlot(                        \"5ae0aa5a-1e0c-41f8-a153-ce7c7435d360\",                        [{\"domain\": {\"x\": [0.0, 1.0], \"y\": [0.0, 1.0]}, \"hovertemplate\": \"\\u985e\\u578b=%{label}<br>\\u6848\\u4ef6\\u6578\\u91cf=%{value}<extra></extra>\", \"insidetextorientation\": \"radial\", \"labels\": [\"\\u8087\\u4e8b\\u9003\\u9038&\\u4e0a\\u8a34\\u5ee2\\u68c4\\u767c\\u56de\\u6216\\u6539\\u5224\", \"\\u8087\\u4e8b\\u9003\\u9038&\\u4e0a\\u8a34\\u99c1\\u56de\\u7dad\\u6301\\u539f\\u5224\"], \"legendgroup\": \"\", \"name\": \"\", \"showlegend\": true, \"textinfo\": \"percent+label\", \"textposition\": \"inside\", \"type\": \"pie\", \"values\": [1, 6]}],                        {\"legend\": {\"tracegroupgap\": 0}, \"template\": {\"data\": {\"bar\": [{\"error_x\": {\"color\": \"#2a3f5f\"}, \"error_y\": {\"color\": \"#2a3f5f\"}, \"marker\": {\"line\": {\"color\": \"#E5ECF6\", \"width\": 0.5}}, \"type\": \"bar\"}], \"barpolar\": [{\"marker\": {\"line\": {\"color\": \"#E5ECF6\", \"width\": 0.5}}, \"type\": \"barpolar\"}], \"carpet\": [{\"aaxis\": {\"endlinecolor\": \"#2a3f5f\", \"gridcolor\": \"white\", \"linecolor\": \"white\", \"minorgridcolor\": \"white\", \"startlinecolor\": \"#2a3f5f\"}, \"baxis\": {\"endlinecolor\": \"#2a3f5f\", \"gridcolor\": \"white\", \"linecolor\": \"white\", \"minorgridcolor\": \"white\", \"startlinecolor\": \"#2a3f5f\"}, \"type\": \"carpet\"}], \"choropleth\": [{\"colorbar\": {\"outlinewidth\": 0, \"ticks\": \"\"}, \"type\": \"choropleth\"}], \"contour\": [{\"colorbar\": {\"outlinewidth\": 0, \"ticks\": \"\"}, \"colorscale\": [[0.0, \"#0d0887\"], [0.1111111111111111, \"#46039f\"], [0.2222222222222222, \"#7201a8\"], [0.3333333333333333, \"#9c179e\"], [0.4444444444444444, \"#bd3786\"], [0.5555555555555556, \"#d8576b\"], [0.6666666666666666, \"#ed7953\"], [0.7777777777777778, \"#fb9f3a\"], [0.8888888888888888, \"#fdca26\"], [1.0, \"#f0f921\"]], \"type\": \"contour\"}], \"contourcarpet\": [{\"colorbar\": {\"outlinewidth\": 0, \"ticks\": \"\"}, \"type\": \"contourcarpet\"}], \"heatmap\": [{\"colorbar\": {\"outlinewidth\": 0, \"ticks\": \"\"}, \"colorscale\": [[0.0, \"#0d0887\"], [0.1111111111111111, \"#46039f\"], [0.2222222222222222, \"#7201a8\"], [0.3333333333333333, \"#9c179e\"], [0.4444444444444444, \"#bd3786\"], [0.5555555555555556, \"#d8576b\"], [0.6666666666666666, \"#ed7953\"], [0.7777777777777778, \"#fb9f3a\"], [0.8888888888888888, \"#fdca26\"], [1.0, \"#f0f921\"]], \"type\": \"heatmap\"}], \"heatmapgl\": [{\"colorbar\": {\"outlinewidth\": 0, \"ticks\": \"\"}, \"colorscale\": [[0.0, \"#0d0887\"], [0.1111111111111111, \"#46039f\"], [0.2222222222222222, \"#7201a8\"], [0.3333333333333333, \"#9c179e\"], [0.4444444444444444, \"#bd3786\"], [0.5555555555555556, \"#d8576b\"], [0.6666666666666666, \"#ed7953\"], [0.7777777777777778, \"#fb9f3a\"], [0.8888888888888888, \"#fdca26\"], [1.0, \"#f0f921\"]], \"type\": \"heatmapgl\"}], \"histogram\": [{\"marker\": {\"colorbar\": {\"outlinewidth\": 0, \"ticks\": \"\"}}, \"type\": \"histogram\"}], \"histogram2d\": [{\"colorbar\": {\"outlinewidth\": 0, \"ticks\": \"\"}, \"colorscale\": [[0.0, \"#0d0887\"], [0.1111111111111111, \"#46039f\"], [0.2222222222222222, \"#7201a8\"], [0.3333333333333333, \"#9c179e\"], [0.4444444444444444, \"#bd3786\"], [0.5555555555555556, \"#d8576b\"], [0.6666666666666666, \"#ed7953\"], [0.7777777777777778, \"#fb9f3a\"], [0.8888888888888888, \"#fdca26\"], [1.0, \"#f0f921\"]], \"type\": \"histogram2d\"}], \"histogram2dcontour\": [{\"colorbar\": {\"outlinewidth\": 0, \"ticks\": \"\"}, \"colorscale\": [[0.0, \"#0d0887\"], [0.1111111111111111, \"#46039f\"], [0.2222222222222222, \"#7201a8\"], [0.3333333333333333, \"#9c179e\"], [0.4444444444444444, \"#bd3786\"], [0.5555555555555556, \"#d8576b\"], [0.6666666666666666, \"#ed7953\"], [0.7777777777777778, \"#fb9f3a\"], [0.8888888888888888, \"#fdca26\"], [1.0, \"#f0f921\"]], \"type\": \"histogram2dcontour\"}], \"mesh3d\": [{\"colorbar\": {\"outlinewidth\": 0, \"ticks\": \"\"}, \"type\": \"mesh3d\"}], \"parcoords\": [{\"line\": {\"colorbar\": {\"outlinewidth\": 0, \"ticks\": \"\"}}, \"type\": \"parcoords\"}], \"pie\": [{\"automargin\": true, \"type\": \"pie\"}], \"scatter\": [{\"marker\": {\"colorbar\": {\"outlinewidth\": 0, \"ticks\": \"\"}}, \"type\": \"scatter\"}], \"scatter3d\": [{\"line\": {\"colorbar\": {\"outlinewidth\": 0, \"ticks\": \"\"}}, \"marker\": {\"colorbar\": {\"outlinewidth\": 0, \"ticks\": \"\"}}, \"type\": \"scatter3d\"}], \"scattercarpet\": [{\"marker\": {\"colorbar\": {\"outlinewidth\": 0, \"ticks\": \"\"}}, \"type\": \"scattercarpet\"}], \"scattergeo\": [{\"marker\": {\"colorbar\": {\"outlinewidth\": 0, \"ticks\": \"\"}}, \"type\": \"scattergeo\"}], \"scattergl\": [{\"marker\": {\"colorbar\": {\"outlinewidth\": 0, \"ticks\": \"\"}}, \"type\": \"scattergl\"}], \"scattermapbox\": [{\"marker\": {\"colorbar\": {\"outlinewidth\": 0, \"ticks\": \"\"}}, \"type\": \"scattermapbox\"}], \"scatterpolar\": [{\"marker\": {\"colorbar\": {\"outlinewidth\": 0, \"ticks\": \"\"}}, \"type\": \"scatterpolar\"}], \"scatterpolargl\": [{\"marker\": {\"colorbar\": {\"outlinewidth\": 0, \"ticks\": \"\"}}, \"type\": \"scatterpolargl\"}], \"scatterternary\": [{\"marker\": {\"colorbar\": {\"outlinewidth\": 0, \"ticks\": \"\"}}, \"type\": \"scatterternary\"}], \"surface\": [{\"colorbar\": {\"outlinewidth\": 0, \"ticks\": \"\"}, \"colorscale\": [[0.0, \"#0d0887\"], [0.1111111111111111, \"#46039f\"], [0.2222222222222222, \"#7201a8\"], [0.3333333333333333, \"#9c179e\"], [0.4444444444444444, \"#bd3786\"], [0.5555555555555556, \"#d8576b\"], [0.6666666666666666, \"#ed7953\"], [0.7777777777777778, \"#fb9f3a\"], [0.8888888888888888, \"#fdca26\"], [1.0, \"#f0f921\"]], \"type\": \"surface\"}], \"table\": [{\"cells\": {\"fill\": {\"color\": \"#EBF0F8\"}, \"line\": {\"color\": \"white\"}}, \"header\": {\"fill\": {\"color\": \"#C8D4E3\"}, \"line\": {\"color\": \"white\"}}, \"type\": \"table\"}]}, \"layout\": {\"annotationdefaults\": {\"arrowcolor\": \"#2a3f5f\", \"arrowhead\": 0, \"arrowwidth\": 1}, \"autotypenumbers\": \"strict\", \"coloraxis\": {\"colorbar\": {\"outlinewidth\": 0, \"ticks\": \"\"}}, \"colorscale\": {\"diverging\": [[0, \"#8e0152\"], [0.1, \"#c51b7d\"], [0.2, \"#de77ae\"], [0.3, \"#f1b6da\"], [0.4, \"#fde0ef\"], [0.5, \"#f7f7f7\"], [0.6, \"#e6f5d0\"], [0.7, \"#b8e186\"], [0.8, \"#7fbc41\"], [0.9, \"#4d9221\"], [1, \"#276419\"]], \"sequential\": [[0.0, \"#0d0887\"], [0.1111111111111111, \"#46039f\"], [0.2222222222222222, \"#7201a8\"], [0.3333333333333333, \"#9c179e\"], [0.4444444444444444, \"#bd3786\"], [0.5555555555555556, \"#d8576b\"], [0.6666666666666666, \"#ed7953\"], [0.7777777777777778, \"#fb9f3a\"], [0.8888888888888888, \"#fdca26\"], [1.0, \"#f0f921\"]], \"sequentialminus\": [[0.0, \"#0d0887\"], [0.1111111111111111, \"#46039f\"], [0.2222222222222222, \"#7201a8\"], [0.3333333333333333, \"#9c179e\"], [0.4444444444444444, \"#bd3786\"], [0.5555555555555556, \"#d8576b\"], [0.6666666666666666, \"#ed7953\"], [0.7777777777777778, \"#fb9f3a\"], [0.8888888888888888, \"#fdca26\"], [1.0, \"#f0f921\"]]}, \"colorway\": [\"#636efa\", \"#EF553B\", \"#00cc96\", \"#ab63fa\", \"#FFA15A\", \"#19d3f3\", \"#FF6692\", \"#B6E880\", \"#FF97FF\", \"#FECB52\"], \"font\": {\"color\": \"#2a3f5f\"}, \"geo\": {\"bgcolor\": \"white\", \"lakecolor\": \"white\", \"landcolor\": \"#E5ECF6\", \"showlakes\": true, \"showland\": true, \"subunitcolor\": \"white\"}, \"hoverlabel\": {\"align\": \"left\"}, \"hovermode\": \"closest\", \"mapbox\": {\"style\": \"light\"}, \"paper_bgcolor\": \"white\", \"plot_bgcolor\": \"#E5ECF6\", \"polar\": {\"angularaxis\": {\"gridcolor\": \"white\", \"linecolor\": \"white\", \"ticks\": \"\"}, \"bgcolor\": \"#E5ECF6\", \"radialaxis\": {\"gridcolor\": \"white\", \"linecolor\": \"white\", \"ticks\": \"\"}}, \"scene\": {\"xaxis\": {\"backgroundcolor\": \"#E5ECF6\", \"gridcolor\": \"white\", \"gridwidth\": 2, \"linecolor\": \"white\", \"showbackground\": true, \"ticks\": \"\", \"zerolinecolor\": \"white\"}, \"yaxis\": {\"backgroundcolor\": \"#E5ECF6\", \"gridcolor\": \"white\", \"gridwidth\": 2, \"linecolor\": \"white\", \"showbackground\": true, \"ticks\": \"\", \"zerolinecolor\": \"white\"}, \"zaxis\": {\"backgroundcolor\": \"#E5ECF6\", \"gridcolor\": \"white\", \"gridwidth\": 2, \"linecolor\": \"white\", \"showbackground\": true, \"ticks\": \"\", \"zerolinecolor\": \"white\"}}, \"shapedefaults\": {\"line\": {\"color\": \"#2a3f5f\"}}, \"ternary\": {\"aaxis\": {\"gridcolor\": \"white\", \"linecolor\": \"white\", \"ticks\": \"\"}, \"baxis\": {\"gridcolor\": \"white\", \"linecolor\": \"white\", \"ticks\": \"\"}, \"bgcolor\": \"#E5ECF6\", \"caxis\": {\"gridcolor\": \"white\", \"linecolor\": \"white\", \"ticks\": \"\"}}, \"title\": {\"x\": 0.05}, \"xaxis\": {\"automargin\": true, \"gridcolor\": \"white\", \"linecolor\": \"white\", \"ticks\": \"\", \"title\": {\"standoff\": 15}, \"zerolinecolor\": \"white\", \"zerolinewidth\": 2}, \"yaxis\": {\"automargin\": true, \"gridcolor\": \"white\", \"linecolor\": \"white\", \"ticks\": \"\", \"title\": {\"standoff\": 15}, \"zerolinecolor\": \"white\", \"zerolinewidth\": 2}}}, \"title\": {\"text\": \"\\u53f0\\u7063\\u9ad8\\u7b49\\u6cd5\\u9662 \\u4ea4\\u901a\\u4e8b\\u4ef6&\\u8087\\u4e8b\\u9003\\u9038\\u7dad\\u6301\\u7387\\u5206\\u4f48\"}},                        {\"responsive\": true}                    ).then(function(){\n",
       "                            \n",
       "var gd = document.getElementById('5ae0aa5a-1e0c-41f8-a153-ce7c7435d360');\n",
       "var x = new MutationObserver(function (mutations, observer) {{\n",
       "        var display = window.getComputedStyle(gd).display;\n",
       "        if (!display || display === 'none') {{\n",
       "            console.log([gd, 'removed!']);\n",
       "            Plotly.purge(gd);\n",
       "            observer.disconnect();\n",
       "        }}\n",
       "}});\n",
       "\n",
       "// Listen for the removal of the full notebook cells\n",
       "var notebookContainer = gd.closest('#notebook-container');\n",
       "if (notebookContainer) {{\n",
       "    x.observe(notebookContainer, {childList: true});\n",
       "}}\n",
       "\n",
       "// Listen for the clearing of the current output cell\n",
       "var outputEl = gd.closest('.output');\n",
       "if (outputEl) {{\n",
       "    x.observe(outputEl, {childList: true});\n",
       "}}\n",
       "\n",
       "                        })                };                });            </script>        </div>"
      ]
     },
     "metadata": {},
     "output_type": "display_data"
    }
   ],
   "source": [
    "reason(\"肇事逃逸\")"
   ]
  },
  {
   "cell_type": "code",
   "execution_count": 68,
   "metadata": {},
   "outputs": [
    {
     "data": {
      "application/vnd.plotly.v1+json": {
       "config": {
        "plotlyServerURL": "https://plot.ly"
       },
       "data": [
        {
         "domain": {
          "x": [
           0,
           1
          ],
          "y": [
           0,
           1
          ]
         },
         "hovertemplate": "類型=%{label}<br>案件數量=%{value}<extra></extra>",
         "insidetextorientation": "radial",
         "labels": [
          "酒駕&上訴廢棄發回或改判",
          "酒駕&上訴駁回維持原判"
         ],
         "legendgroup": "",
         "name": "",
         "showlegend": true,
         "textinfo": "percent+label",
         "textposition": "inside",
         "type": "pie",
         "values": [
          0,
          9
         ]
        }
       ],
       "layout": {
        "legend": {
         "tracegroupgap": 0
        },
        "template": {
         "data": {
          "bar": [
           {
            "error_x": {
             "color": "#2a3f5f"
            },
            "error_y": {
             "color": "#2a3f5f"
            },
            "marker": {
             "line": {
              "color": "#E5ECF6",
              "width": 0.5
             }
            },
            "type": "bar"
           }
          ],
          "barpolar": [
           {
            "marker": {
             "line": {
              "color": "#E5ECF6",
              "width": 0.5
             }
            },
            "type": "barpolar"
           }
          ],
          "carpet": [
           {
            "aaxis": {
             "endlinecolor": "#2a3f5f",
             "gridcolor": "white",
             "linecolor": "white",
             "minorgridcolor": "white",
             "startlinecolor": "#2a3f5f"
            },
            "baxis": {
             "endlinecolor": "#2a3f5f",
             "gridcolor": "white",
             "linecolor": "white",
             "minorgridcolor": "white",
             "startlinecolor": "#2a3f5f"
            },
            "type": "carpet"
           }
          ],
          "choropleth": [
           {
            "colorbar": {
             "outlinewidth": 0,
             "ticks": ""
            },
            "type": "choropleth"
           }
          ],
          "contour": [
           {
            "colorbar": {
             "outlinewidth": 0,
             "ticks": ""
            },
            "colorscale": [
             [
              0,
              "#0d0887"
             ],
             [
              0.1111111111111111,
              "#46039f"
             ],
             [
              0.2222222222222222,
              "#7201a8"
             ],
             [
              0.3333333333333333,
              "#9c179e"
             ],
             [
              0.4444444444444444,
              "#bd3786"
             ],
             [
              0.5555555555555556,
              "#d8576b"
             ],
             [
              0.6666666666666666,
              "#ed7953"
             ],
             [
              0.7777777777777778,
              "#fb9f3a"
             ],
             [
              0.8888888888888888,
              "#fdca26"
             ],
             [
              1,
              "#f0f921"
             ]
            ],
            "type": "contour"
           }
          ],
          "contourcarpet": [
           {
            "colorbar": {
             "outlinewidth": 0,
             "ticks": ""
            },
            "type": "contourcarpet"
           }
          ],
          "heatmap": [
           {
            "colorbar": {
             "outlinewidth": 0,
             "ticks": ""
            },
            "colorscale": [
             [
              0,
              "#0d0887"
             ],
             [
              0.1111111111111111,
              "#46039f"
             ],
             [
              0.2222222222222222,
              "#7201a8"
             ],
             [
              0.3333333333333333,
              "#9c179e"
             ],
             [
              0.4444444444444444,
              "#bd3786"
             ],
             [
              0.5555555555555556,
              "#d8576b"
             ],
             [
              0.6666666666666666,
              "#ed7953"
             ],
             [
              0.7777777777777778,
              "#fb9f3a"
             ],
             [
              0.8888888888888888,
              "#fdca26"
             ],
             [
              1,
              "#f0f921"
             ]
            ],
            "type": "heatmap"
           }
          ],
          "heatmapgl": [
           {
            "colorbar": {
             "outlinewidth": 0,
             "ticks": ""
            },
            "colorscale": [
             [
              0,
              "#0d0887"
             ],
             [
              0.1111111111111111,
              "#46039f"
             ],
             [
              0.2222222222222222,
              "#7201a8"
             ],
             [
              0.3333333333333333,
              "#9c179e"
             ],
             [
              0.4444444444444444,
              "#bd3786"
             ],
             [
              0.5555555555555556,
              "#d8576b"
             ],
             [
              0.6666666666666666,
              "#ed7953"
             ],
             [
              0.7777777777777778,
              "#fb9f3a"
             ],
             [
              0.8888888888888888,
              "#fdca26"
             ],
             [
              1,
              "#f0f921"
             ]
            ],
            "type": "heatmapgl"
           }
          ],
          "histogram": [
           {
            "marker": {
             "colorbar": {
              "outlinewidth": 0,
              "ticks": ""
             }
            },
            "type": "histogram"
           }
          ],
          "histogram2d": [
           {
            "colorbar": {
             "outlinewidth": 0,
             "ticks": ""
            },
            "colorscale": [
             [
              0,
              "#0d0887"
             ],
             [
              0.1111111111111111,
              "#46039f"
             ],
             [
              0.2222222222222222,
              "#7201a8"
             ],
             [
              0.3333333333333333,
              "#9c179e"
             ],
             [
              0.4444444444444444,
              "#bd3786"
             ],
             [
              0.5555555555555556,
              "#d8576b"
             ],
             [
              0.6666666666666666,
              "#ed7953"
             ],
             [
              0.7777777777777778,
              "#fb9f3a"
             ],
             [
              0.8888888888888888,
              "#fdca26"
             ],
             [
              1,
              "#f0f921"
             ]
            ],
            "type": "histogram2d"
           }
          ],
          "histogram2dcontour": [
           {
            "colorbar": {
             "outlinewidth": 0,
             "ticks": ""
            },
            "colorscale": [
             [
              0,
              "#0d0887"
             ],
             [
              0.1111111111111111,
              "#46039f"
             ],
             [
              0.2222222222222222,
              "#7201a8"
             ],
             [
              0.3333333333333333,
              "#9c179e"
             ],
             [
              0.4444444444444444,
              "#bd3786"
             ],
             [
              0.5555555555555556,
              "#d8576b"
             ],
             [
              0.6666666666666666,
              "#ed7953"
             ],
             [
              0.7777777777777778,
              "#fb9f3a"
             ],
             [
              0.8888888888888888,
              "#fdca26"
             ],
             [
              1,
              "#f0f921"
             ]
            ],
            "type": "histogram2dcontour"
           }
          ],
          "mesh3d": [
           {
            "colorbar": {
             "outlinewidth": 0,
             "ticks": ""
            },
            "type": "mesh3d"
           }
          ],
          "parcoords": [
           {
            "line": {
             "colorbar": {
              "outlinewidth": 0,
              "ticks": ""
             }
            },
            "type": "parcoords"
           }
          ],
          "pie": [
           {
            "automargin": true,
            "type": "pie"
           }
          ],
          "scatter": [
           {
            "marker": {
             "colorbar": {
              "outlinewidth": 0,
              "ticks": ""
             }
            },
            "type": "scatter"
           }
          ],
          "scatter3d": [
           {
            "line": {
             "colorbar": {
              "outlinewidth": 0,
              "ticks": ""
             }
            },
            "marker": {
             "colorbar": {
              "outlinewidth": 0,
              "ticks": ""
             }
            },
            "type": "scatter3d"
           }
          ],
          "scattercarpet": [
           {
            "marker": {
             "colorbar": {
              "outlinewidth": 0,
              "ticks": ""
             }
            },
            "type": "scattercarpet"
           }
          ],
          "scattergeo": [
           {
            "marker": {
             "colorbar": {
              "outlinewidth": 0,
              "ticks": ""
             }
            },
            "type": "scattergeo"
           }
          ],
          "scattergl": [
           {
            "marker": {
             "colorbar": {
              "outlinewidth": 0,
              "ticks": ""
             }
            },
            "type": "scattergl"
           }
          ],
          "scattermapbox": [
           {
            "marker": {
             "colorbar": {
              "outlinewidth": 0,
              "ticks": ""
             }
            },
            "type": "scattermapbox"
           }
          ],
          "scatterpolar": [
           {
            "marker": {
             "colorbar": {
              "outlinewidth": 0,
              "ticks": ""
             }
            },
            "type": "scatterpolar"
           }
          ],
          "scatterpolargl": [
           {
            "marker": {
             "colorbar": {
              "outlinewidth": 0,
              "ticks": ""
             }
            },
            "type": "scatterpolargl"
           }
          ],
          "scatterternary": [
           {
            "marker": {
             "colorbar": {
              "outlinewidth": 0,
              "ticks": ""
             }
            },
            "type": "scatterternary"
           }
          ],
          "surface": [
           {
            "colorbar": {
             "outlinewidth": 0,
             "ticks": ""
            },
            "colorscale": [
             [
              0,
              "#0d0887"
             ],
             [
              0.1111111111111111,
              "#46039f"
             ],
             [
              0.2222222222222222,
              "#7201a8"
             ],
             [
              0.3333333333333333,
              "#9c179e"
             ],
             [
              0.4444444444444444,
              "#bd3786"
             ],
             [
              0.5555555555555556,
              "#d8576b"
             ],
             [
              0.6666666666666666,
              "#ed7953"
             ],
             [
              0.7777777777777778,
              "#fb9f3a"
             ],
             [
              0.8888888888888888,
              "#fdca26"
             ],
             [
              1,
              "#f0f921"
             ]
            ],
            "type": "surface"
           }
          ],
          "table": [
           {
            "cells": {
             "fill": {
              "color": "#EBF0F8"
             },
             "line": {
              "color": "white"
             }
            },
            "header": {
             "fill": {
              "color": "#C8D4E3"
             },
             "line": {
              "color": "white"
             }
            },
            "type": "table"
           }
          ]
         },
         "layout": {
          "annotationdefaults": {
           "arrowcolor": "#2a3f5f",
           "arrowhead": 0,
           "arrowwidth": 1
          },
          "autotypenumbers": "strict",
          "coloraxis": {
           "colorbar": {
            "outlinewidth": 0,
            "ticks": ""
           }
          },
          "colorscale": {
           "diverging": [
            [
             0,
             "#8e0152"
            ],
            [
             0.1,
             "#c51b7d"
            ],
            [
             0.2,
             "#de77ae"
            ],
            [
             0.3,
             "#f1b6da"
            ],
            [
             0.4,
             "#fde0ef"
            ],
            [
             0.5,
             "#f7f7f7"
            ],
            [
             0.6,
             "#e6f5d0"
            ],
            [
             0.7,
             "#b8e186"
            ],
            [
             0.8,
             "#7fbc41"
            ],
            [
             0.9,
             "#4d9221"
            ],
            [
             1,
             "#276419"
            ]
           ],
           "sequential": [
            [
             0,
             "#0d0887"
            ],
            [
             0.1111111111111111,
             "#46039f"
            ],
            [
             0.2222222222222222,
             "#7201a8"
            ],
            [
             0.3333333333333333,
             "#9c179e"
            ],
            [
             0.4444444444444444,
             "#bd3786"
            ],
            [
             0.5555555555555556,
             "#d8576b"
            ],
            [
             0.6666666666666666,
             "#ed7953"
            ],
            [
             0.7777777777777778,
             "#fb9f3a"
            ],
            [
             0.8888888888888888,
             "#fdca26"
            ],
            [
             1,
             "#f0f921"
            ]
           ],
           "sequentialminus": [
            [
             0,
             "#0d0887"
            ],
            [
             0.1111111111111111,
             "#46039f"
            ],
            [
             0.2222222222222222,
             "#7201a8"
            ],
            [
             0.3333333333333333,
             "#9c179e"
            ],
            [
             0.4444444444444444,
             "#bd3786"
            ],
            [
             0.5555555555555556,
             "#d8576b"
            ],
            [
             0.6666666666666666,
             "#ed7953"
            ],
            [
             0.7777777777777778,
             "#fb9f3a"
            ],
            [
             0.8888888888888888,
             "#fdca26"
            ],
            [
             1,
             "#f0f921"
            ]
           ]
          },
          "colorway": [
           "#636efa",
           "#EF553B",
           "#00cc96",
           "#ab63fa",
           "#FFA15A",
           "#19d3f3",
           "#FF6692",
           "#B6E880",
           "#FF97FF",
           "#FECB52"
          ],
          "font": {
           "color": "#2a3f5f"
          },
          "geo": {
           "bgcolor": "white",
           "lakecolor": "white",
           "landcolor": "#E5ECF6",
           "showlakes": true,
           "showland": true,
           "subunitcolor": "white"
          },
          "hoverlabel": {
           "align": "left"
          },
          "hovermode": "closest",
          "mapbox": {
           "style": "light"
          },
          "paper_bgcolor": "white",
          "plot_bgcolor": "#E5ECF6",
          "polar": {
           "angularaxis": {
            "gridcolor": "white",
            "linecolor": "white",
            "ticks": ""
           },
           "bgcolor": "#E5ECF6",
           "radialaxis": {
            "gridcolor": "white",
            "linecolor": "white",
            "ticks": ""
           }
          },
          "scene": {
           "xaxis": {
            "backgroundcolor": "#E5ECF6",
            "gridcolor": "white",
            "gridwidth": 2,
            "linecolor": "white",
            "showbackground": true,
            "ticks": "",
            "zerolinecolor": "white"
           },
           "yaxis": {
            "backgroundcolor": "#E5ECF6",
            "gridcolor": "white",
            "gridwidth": 2,
            "linecolor": "white",
            "showbackground": true,
            "ticks": "",
            "zerolinecolor": "white"
           },
           "zaxis": {
            "backgroundcolor": "#E5ECF6",
            "gridcolor": "white",
            "gridwidth": 2,
            "linecolor": "white",
            "showbackground": true,
            "ticks": "",
            "zerolinecolor": "white"
           }
          },
          "shapedefaults": {
           "line": {
            "color": "#2a3f5f"
           }
          },
          "ternary": {
           "aaxis": {
            "gridcolor": "white",
            "linecolor": "white",
            "ticks": ""
           },
           "baxis": {
            "gridcolor": "white",
            "linecolor": "white",
            "ticks": ""
           },
           "bgcolor": "#E5ECF6",
           "caxis": {
            "gridcolor": "white",
            "linecolor": "white",
            "ticks": ""
           }
          },
          "title": {
           "x": 0.05
          },
          "xaxis": {
           "automargin": true,
           "gridcolor": "white",
           "linecolor": "white",
           "ticks": "",
           "title": {
            "standoff": 15
           },
           "zerolinecolor": "white",
           "zerolinewidth": 2
          },
          "yaxis": {
           "automargin": true,
           "gridcolor": "white",
           "linecolor": "white",
           "ticks": "",
           "title": {
            "standoff": 15
           },
           "zerolinecolor": "white",
           "zerolinewidth": 2
          }
         }
        },
        "title": {
         "text": "台灣高等法院 交通事件&酒駕維持率分佈"
        }
       }
      },
      "text/html": [
       "<div>                            <div id=\"de0ccee6-bb9c-4737-a268-5371853682fa\" class=\"plotly-graph-div\" style=\"height:525px; width:100%;\"></div>            <script type=\"text/javascript\">                require([\"plotly\"], function(Plotly) {                    window.PLOTLYENV=window.PLOTLYENV || {};                                    if (document.getElementById(\"de0ccee6-bb9c-4737-a268-5371853682fa\")) {                    Plotly.newPlot(                        \"de0ccee6-bb9c-4737-a268-5371853682fa\",                        [{\"domain\": {\"x\": [0.0, 1.0], \"y\": [0.0, 1.0]}, \"hovertemplate\": \"\\u985e\\u578b=%{label}<br>\\u6848\\u4ef6\\u6578\\u91cf=%{value}<extra></extra>\", \"insidetextorientation\": \"radial\", \"labels\": [\"\\u9152\\u99d5&\\u4e0a\\u8a34\\u5ee2\\u68c4\\u767c\\u56de\\u6216\\u6539\\u5224\", \"\\u9152\\u99d5&\\u4e0a\\u8a34\\u99c1\\u56de\\u7dad\\u6301\\u539f\\u5224\"], \"legendgroup\": \"\", \"name\": \"\", \"showlegend\": true, \"textinfo\": \"percent+label\", \"textposition\": \"inside\", \"type\": \"pie\", \"values\": [0, 9]}],                        {\"legend\": {\"tracegroupgap\": 0}, \"template\": {\"data\": {\"bar\": [{\"error_x\": {\"color\": \"#2a3f5f\"}, \"error_y\": {\"color\": \"#2a3f5f\"}, \"marker\": {\"line\": {\"color\": \"#E5ECF6\", \"width\": 0.5}}, \"type\": \"bar\"}], \"barpolar\": [{\"marker\": {\"line\": {\"color\": \"#E5ECF6\", \"width\": 0.5}}, \"type\": \"barpolar\"}], \"carpet\": [{\"aaxis\": {\"endlinecolor\": \"#2a3f5f\", \"gridcolor\": \"white\", \"linecolor\": \"white\", \"minorgridcolor\": \"white\", \"startlinecolor\": \"#2a3f5f\"}, \"baxis\": {\"endlinecolor\": \"#2a3f5f\", \"gridcolor\": \"white\", \"linecolor\": \"white\", \"minorgridcolor\": \"white\", \"startlinecolor\": \"#2a3f5f\"}, \"type\": \"carpet\"}], \"choropleth\": [{\"colorbar\": {\"outlinewidth\": 0, \"ticks\": \"\"}, \"type\": \"choropleth\"}], \"contour\": [{\"colorbar\": {\"outlinewidth\": 0, \"ticks\": \"\"}, \"colorscale\": [[0.0, \"#0d0887\"], [0.1111111111111111, \"#46039f\"], [0.2222222222222222, \"#7201a8\"], [0.3333333333333333, \"#9c179e\"], [0.4444444444444444, \"#bd3786\"], [0.5555555555555556, \"#d8576b\"], [0.6666666666666666, \"#ed7953\"], [0.7777777777777778, \"#fb9f3a\"], [0.8888888888888888, \"#fdca26\"], [1.0, \"#f0f921\"]], \"type\": \"contour\"}], \"contourcarpet\": [{\"colorbar\": {\"outlinewidth\": 0, \"ticks\": \"\"}, \"type\": \"contourcarpet\"}], \"heatmap\": [{\"colorbar\": {\"outlinewidth\": 0, \"ticks\": \"\"}, \"colorscale\": [[0.0, \"#0d0887\"], [0.1111111111111111, \"#46039f\"], [0.2222222222222222, \"#7201a8\"], [0.3333333333333333, \"#9c179e\"], [0.4444444444444444, \"#bd3786\"], [0.5555555555555556, \"#d8576b\"], [0.6666666666666666, \"#ed7953\"], [0.7777777777777778, \"#fb9f3a\"], [0.8888888888888888, \"#fdca26\"], [1.0, \"#f0f921\"]], \"type\": \"heatmap\"}], \"heatmapgl\": [{\"colorbar\": {\"outlinewidth\": 0, \"ticks\": \"\"}, \"colorscale\": [[0.0, \"#0d0887\"], [0.1111111111111111, \"#46039f\"], [0.2222222222222222, \"#7201a8\"], [0.3333333333333333, \"#9c179e\"], [0.4444444444444444, \"#bd3786\"], [0.5555555555555556, \"#d8576b\"], [0.6666666666666666, \"#ed7953\"], [0.7777777777777778, \"#fb9f3a\"], [0.8888888888888888, \"#fdca26\"], [1.0, \"#f0f921\"]], \"type\": \"heatmapgl\"}], \"histogram\": [{\"marker\": {\"colorbar\": {\"outlinewidth\": 0, \"ticks\": \"\"}}, \"type\": \"histogram\"}], \"histogram2d\": [{\"colorbar\": {\"outlinewidth\": 0, \"ticks\": \"\"}, \"colorscale\": [[0.0, \"#0d0887\"], [0.1111111111111111, \"#46039f\"], [0.2222222222222222, \"#7201a8\"], [0.3333333333333333, \"#9c179e\"], [0.4444444444444444, \"#bd3786\"], [0.5555555555555556, \"#d8576b\"], [0.6666666666666666, \"#ed7953\"], [0.7777777777777778, \"#fb9f3a\"], [0.8888888888888888, \"#fdca26\"], [1.0, \"#f0f921\"]], \"type\": \"histogram2d\"}], \"histogram2dcontour\": [{\"colorbar\": {\"outlinewidth\": 0, \"ticks\": \"\"}, \"colorscale\": [[0.0, \"#0d0887\"], [0.1111111111111111, \"#46039f\"], [0.2222222222222222, \"#7201a8\"], [0.3333333333333333, \"#9c179e\"], [0.4444444444444444, \"#bd3786\"], [0.5555555555555556, \"#d8576b\"], [0.6666666666666666, \"#ed7953\"], [0.7777777777777778, \"#fb9f3a\"], [0.8888888888888888, \"#fdca26\"], [1.0, \"#f0f921\"]], \"type\": \"histogram2dcontour\"}], \"mesh3d\": [{\"colorbar\": {\"outlinewidth\": 0, \"ticks\": \"\"}, \"type\": \"mesh3d\"}], \"parcoords\": [{\"line\": {\"colorbar\": {\"outlinewidth\": 0, \"ticks\": \"\"}}, \"type\": \"parcoords\"}], \"pie\": [{\"automargin\": true, \"type\": \"pie\"}], \"scatter\": [{\"marker\": {\"colorbar\": {\"outlinewidth\": 0, \"ticks\": \"\"}}, \"type\": \"scatter\"}], \"scatter3d\": [{\"line\": {\"colorbar\": {\"outlinewidth\": 0, \"ticks\": \"\"}}, \"marker\": {\"colorbar\": {\"outlinewidth\": 0, \"ticks\": \"\"}}, \"type\": \"scatter3d\"}], \"scattercarpet\": [{\"marker\": {\"colorbar\": {\"outlinewidth\": 0, \"ticks\": \"\"}}, \"type\": \"scattercarpet\"}], \"scattergeo\": [{\"marker\": {\"colorbar\": {\"outlinewidth\": 0, \"ticks\": \"\"}}, \"type\": \"scattergeo\"}], \"scattergl\": [{\"marker\": {\"colorbar\": {\"outlinewidth\": 0, \"ticks\": \"\"}}, \"type\": \"scattergl\"}], \"scattermapbox\": [{\"marker\": {\"colorbar\": {\"outlinewidth\": 0, \"ticks\": \"\"}}, \"type\": \"scattermapbox\"}], \"scatterpolar\": [{\"marker\": {\"colorbar\": {\"outlinewidth\": 0, \"ticks\": \"\"}}, \"type\": \"scatterpolar\"}], \"scatterpolargl\": [{\"marker\": {\"colorbar\": {\"outlinewidth\": 0, \"ticks\": \"\"}}, \"type\": \"scatterpolargl\"}], \"scatterternary\": [{\"marker\": {\"colorbar\": {\"outlinewidth\": 0, \"ticks\": \"\"}}, \"type\": \"scatterternary\"}], \"surface\": [{\"colorbar\": {\"outlinewidth\": 0, \"ticks\": \"\"}, \"colorscale\": [[0.0, \"#0d0887\"], [0.1111111111111111, \"#46039f\"], [0.2222222222222222, \"#7201a8\"], [0.3333333333333333, \"#9c179e\"], [0.4444444444444444, \"#bd3786\"], [0.5555555555555556, \"#d8576b\"], [0.6666666666666666, \"#ed7953\"], [0.7777777777777778, \"#fb9f3a\"], [0.8888888888888888, \"#fdca26\"], [1.0, \"#f0f921\"]], \"type\": \"surface\"}], \"table\": [{\"cells\": {\"fill\": {\"color\": \"#EBF0F8\"}, \"line\": {\"color\": \"white\"}}, \"header\": {\"fill\": {\"color\": \"#C8D4E3\"}, \"line\": {\"color\": \"white\"}}, \"type\": \"table\"}]}, \"layout\": {\"annotationdefaults\": {\"arrowcolor\": \"#2a3f5f\", \"arrowhead\": 0, \"arrowwidth\": 1}, \"autotypenumbers\": \"strict\", \"coloraxis\": {\"colorbar\": {\"outlinewidth\": 0, \"ticks\": \"\"}}, \"colorscale\": {\"diverging\": [[0, \"#8e0152\"], [0.1, \"#c51b7d\"], [0.2, \"#de77ae\"], [0.3, \"#f1b6da\"], [0.4, \"#fde0ef\"], [0.5, \"#f7f7f7\"], [0.6, \"#e6f5d0\"], [0.7, \"#b8e186\"], [0.8, \"#7fbc41\"], [0.9, \"#4d9221\"], [1, \"#276419\"]], \"sequential\": [[0.0, \"#0d0887\"], [0.1111111111111111, \"#46039f\"], [0.2222222222222222, \"#7201a8\"], [0.3333333333333333, \"#9c179e\"], [0.4444444444444444, \"#bd3786\"], [0.5555555555555556, \"#d8576b\"], [0.6666666666666666, \"#ed7953\"], [0.7777777777777778, \"#fb9f3a\"], [0.8888888888888888, \"#fdca26\"], [1.0, \"#f0f921\"]], \"sequentialminus\": [[0.0, \"#0d0887\"], [0.1111111111111111, \"#46039f\"], [0.2222222222222222, \"#7201a8\"], [0.3333333333333333, \"#9c179e\"], [0.4444444444444444, \"#bd3786\"], [0.5555555555555556, \"#d8576b\"], [0.6666666666666666, \"#ed7953\"], [0.7777777777777778, \"#fb9f3a\"], [0.8888888888888888, \"#fdca26\"], [1.0, \"#f0f921\"]]}, \"colorway\": [\"#636efa\", \"#EF553B\", \"#00cc96\", \"#ab63fa\", \"#FFA15A\", \"#19d3f3\", \"#FF6692\", \"#B6E880\", \"#FF97FF\", \"#FECB52\"], \"font\": {\"color\": \"#2a3f5f\"}, \"geo\": {\"bgcolor\": \"white\", \"lakecolor\": \"white\", \"landcolor\": \"#E5ECF6\", \"showlakes\": true, \"showland\": true, \"subunitcolor\": \"white\"}, \"hoverlabel\": {\"align\": \"left\"}, \"hovermode\": \"closest\", \"mapbox\": {\"style\": \"light\"}, \"paper_bgcolor\": \"white\", \"plot_bgcolor\": \"#E5ECF6\", \"polar\": {\"angularaxis\": {\"gridcolor\": \"white\", \"linecolor\": \"white\", \"ticks\": \"\"}, \"bgcolor\": \"#E5ECF6\", \"radialaxis\": {\"gridcolor\": \"white\", \"linecolor\": \"white\", \"ticks\": \"\"}}, \"scene\": {\"xaxis\": {\"backgroundcolor\": \"#E5ECF6\", \"gridcolor\": \"white\", \"gridwidth\": 2, \"linecolor\": \"white\", \"showbackground\": true, \"ticks\": \"\", \"zerolinecolor\": \"white\"}, \"yaxis\": {\"backgroundcolor\": \"#E5ECF6\", \"gridcolor\": \"white\", \"gridwidth\": 2, \"linecolor\": \"white\", \"showbackground\": true, \"ticks\": \"\", \"zerolinecolor\": \"white\"}, \"zaxis\": {\"backgroundcolor\": \"#E5ECF6\", \"gridcolor\": \"white\", \"gridwidth\": 2, \"linecolor\": \"white\", \"showbackground\": true, \"ticks\": \"\", \"zerolinecolor\": \"white\"}}, \"shapedefaults\": {\"line\": {\"color\": \"#2a3f5f\"}}, \"ternary\": {\"aaxis\": {\"gridcolor\": \"white\", \"linecolor\": \"white\", \"ticks\": \"\"}, \"baxis\": {\"gridcolor\": \"white\", \"linecolor\": \"white\", \"ticks\": \"\"}, \"bgcolor\": \"#E5ECF6\", \"caxis\": {\"gridcolor\": \"white\", \"linecolor\": \"white\", \"ticks\": \"\"}}, \"title\": {\"x\": 0.05}, \"xaxis\": {\"automargin\": true, \"gridcolor\": \"white\", \"linecolor\": \"white\", \"ticks\": \"\", \"title\": {\"standoff\": 15}, \"zerolinecolor\": \"white\", \"zerolinewidth\": 2}, \"yaxis\": {\"automargin\": true, \"gridcolor\": \"white\", \"linecolor\": \"white\", \"ticks\": \"\", \"title\": {\"standoff\": 15}, \"zerolinecolor\": \"white\", \"zerolinewidth\": 2}}}, \"title\": {\"text\": \"\\u53f0\\u7063\\u9ad8\\u7b49\\u6cd5\\u9662 \\u4ea4\\u901a\\u4e8b\\u4ef6&\\u9152\\u99d5\\u7dad\\u6301\\u7387\\u5206\\u4f48\"}},                        {\"responsive\": true}                    ).then(function(){\n",
       "                            \n",
       "var gd = document.getElementById('de0ccee6-bb9c-4737-a268-5371853682fa');\n",
       "var x = new MutationObserver(function (mutations, observer) {{\n",
       "        var display = window.getComputedStyle(gd).display;\n",
       "        if (!display || display === 'none') {{\n",
       "            console.log([gd, 'removed!']);\n",
       "            Plotly.purge(gd);\n",
       "            observer.disconnect();\n",
       "        }}\n",
       "}});\n",
       "\n",
       "// Listen for the removal of the full notebook cells\n",
       "var notebookContainer = gd.closest('#notebook-container');\n",
       "if (notebookContainer) {{\n",
       "    x.observe(notebookContainer, {childList: true});\n",
       "}}\n",
       "\n",
       "// Listen for the clearing of the current output cell\n",
       "var outputEl = gd.closest('.output');\n",
       "if (outputEl) {{\n",
       "    x.observe(outputEl, {childList: true});\n",
       "}}\n",
       "\n",
       "                        })                };                });            </script>        </div>"
      ]
     },
     "metadata": {},
     "output_type": "display_data"
    }
   ],
   "source": [
    "reason(\"酒駕\")"
   ]
  },
  {
   "cell_type": "code",
   "execution_count": 64,
   "metadata": {},
   "outputs": [
    {
     "data": {
      "application/vnd.plotly.v1+json": {
       "config": {
        "plotlyServerURL": "https://plot.ly"
       },
       "data": [
        {
         "domain": {
          "x": [
           0,
           1
          ],
          "y": [
           0,
           1
          ]
         },
         "hovertemplate": "類型=%{label}<br>案件數量=%{value}<extra></extra>",
         "insidetextorientation": "radial",
         "labels": [
          "肇事逃逸&上訴廢棄發回或改判",
          "肇事逃逸&上訴駁回維持原判"
         ],
         "legendgroup": "",
         "name": "",
         "showlegend": true,
         "textinfo": "percent+label",
         "textposition": "inside",
         "type": "pie",
         "values": [
          1,
          6
         ]
        }
       ],
       "layout": {
        "legend": {
         "tracegroupgap": 0
        },
        "template": {
         "data": {
          "bar": [
           {
            "error_x": {
             "color": "#2a3f5f"
            },
            "error_y": {
             "color": "#2a3f5f"
            },
            "marker": {
             "line": {
              "color": "#E5ECF6",
              "width": 0.5
             }
            },
            "type": "bar"
           }
          ],
          "barpolar": [
           {
            "marker": {
             "line": {
              "color": "#E5ECF6",
              "width": 0.5
             }
            },
            "type": "barpolar"
           }
          ],
          "carpet": [
           {
            "aaxis": {
             "endlinecolor": "#2a3f5f",
             "gridcolor": "white",
             "linecolor": "white",
             "minorgridcolor": "white",
             "startlinecolor": "#2a3f5f"
            },
            "baxis": {
             "endlinecolor": "#2a3f5f",
             "gridcolor": "white",
             "linecolor": "white",
             "minorgridcolor": "white",
             "startlinecolor": "#2a3f5f"
            },
            "type": "carpet"
           }
          ],
          "choropleth": [
           {
            "colorbar": {
             "outlinewidth": 0,
             "ticks": ""
            },
            "type": "choropleth"
           }
          ],
          "contour": [
           {
            "colorbar": {
             "outlinewidth": 0,
             "ticks": ""
            },
            "colorscale": [
             [
              0,
              "#0d0887"
             ],
             [
              0.1111111111111111,
              "#46039f"
             ],
             [
              0.2222222222222222,
              "#7201a8"
             ],
             [
              0.3333333333333333,
              "#9c179e"
             ],
             [
              0.4444444444444444,
              "#bd3786"
             ],
             [
              0.5555555555555556,
              "#d8576b"
             ],
             [
              0.6666666666666666,
              "#ed7953"
             ],
             [
              0.7777777777777778,
              "#fb9f3a"
             ],
             [
              0.8888888888888888,
              "#fdca26"
             ],
             [
              1,
              "#f0f921"
             ]
            ],
            "type": "contour"
           }
          ],
          "contourcarpet": [
           {
            "colorbar": {
             "outlinewidth": 0,
             "ticks": ""
            },
            "type": "contourcarpet"
           }
          ],
          "heatmap": [
           {
            "colorbar": {
             "outlinewidth": 0,
             "ticks": ""
            },
            "colorscale": [
             [
              0,
              "#0d0887"
             ],
             [
              0.1111111111111111,
              "#46039f"
             ],
             [
              0.2222222222222222,
              "#7201a8"
             ],
             [
              0.3333333333333333,
              "#9c179e"
             ],
             [
              0.4444444444444444,
              "#bd3786"
             ],
             [
              0.5555555555555556,
              "#d8576b"
             ],
             [
              0.6666666666666666,
              "#ed7953"
             ],
             [
              0.7777777777777778,
              "#fb9f3a"
             ],
             [
              0.8888888888888888,
              "#fdca26"
             ],
             [
              1,
              "#f0f921"
             ]
            ],
            "type": "heatmap"
           }
          ],
          "heatmapgl": [
           {
            "colorbar": {
             "outlinewidth": 0,
             "ticks": ""
            },
            "colorscale": [
             [
              0,
              "#0d0887"
             ],
             [
              0.1111111111111111,
              "#46039f"
             ],
             [
              0.2222222222222222,
              "#7201a8"
             ],
             [
              0.3333333333333333,
              "#9c179e"
             ],
             [
              0.4444444444444444,
              "#bd3786"
             ],
             [
              0.5555555555555556,
              "#d8576b"
             ],
             [
              0.6666666666666666,
              "#ed7953"
             ],
             [
              0.7777777777777778,
              "#fb9f3a"
             ],
             [
              0.8888888888888888,
              "#fdca26"
             ],
             [
              1,
              "#f0f921"
             ]
            ],
            "type": "heatmapgl"
           }
          ],
          "histogram": [
           {
            "marker": {
             "colorbar": {
              "outlinewidth": 0,
              "ticks": ""
             }
            },
            "type": "histogram"
           }
          ],
          "histogram2d": [
           {
            "colorbar": {
             "outlinewidth": 0,
             "ticks": ""
            },
            "colorscale": [
             [
              0,
              "#0d0887"
             ],
             [
              0.1111111111111111,
              "#46039f"
             ],
             [
              0.2222222222222222,
              "#7201a8"
             ],
             [
              0.3333333333333333,
              "#9c179e"
             ],
             [
              0.4444444444444444,
              "#bd3786"
             ],
             [
              0.5555555555555556,
              "#d8576b"
             ],
             [
              0.6666666666666666,
              "#ed7953"
             ],
             [
              0.7777777777777778,
              "#fb9f3a"
             ],
             [
              0.8888888888888888,
              "#fdca26"
             ],
             [
              1,
              "#f0f921"
             ]
            ],
            "type": "histogram2d"
           }
          ],
          "histogram2dcontour": [
           {
            "colorbar": {
             "outlinewidth": 0,
             "ticks": ""
            },
            "colorscale": [
             [
              0,
              "#0d0887"
             ],
             [
              0.1111111111111111,
              "#46039f"
             ],
             [
              0.2222222222222222,
              "#7201a8"
             ],
             [
              0.3333333333333333,
              "#9c179e"
             ],
             [
              0.4444444444444444,
              "#bd3786"
             ],
             [
              0.5555555555555556,
              "#d8576b"
             ],
             [
              0.6666666666666666,
              "#ed7953"
             ],
             [
              0.7777777777777778,
              "#fb9f3a"
             ],
             [
              0.8888888888888888,
              "#fdca26"
             ],
             [
              1,
              "#f0f921"
             ]
            ],
            "type": "histogram2dcontour"
           }
          ],
          "mesh3d": [
           {
            "colorbar": {
             "outlinewidth": 0,
             "ticks": ""
            },
            "type": "mesh3d"
           }
          ],
          "parcoords": [
           {
            "line": {
             "colorbar": {
              "outlinewidth": 0,
              "ticks": ""
             }
            },
            "type": "parcoords"
           }
          ],
          "pie": [
           {
            "automargin": true,
            "type": "pie"
           }
          ],
          "scatter": [
           {
            "marker": {
             "colorbar": {
              "outlinewidth": 0,
              "ticks": ""
             }
            },
            "type": "scatter"
           }
          ],
          "scatter3d": [
           {
            "line": {
             "colorbar": {
              "outlinewidth": 0,
              "ticks": ""
             }
            },
            "marker": {
             "colorbar": {
              "outlinewidth": 0,
              "ticks": ""
             }
            },
            "type": "scatter3d"
           }
          ],
          "scattercarpet": [
           {
            "marker": {
             "colorbar": {
              "outlinewidth": 0,
              "ticks": ""
             }
            },
            "type": "scattercarpet"
           }
          ],
          "scattergeo": [
           {
            "marker": {
             "colorbar": {
              "outlinewidth": 0,
              "ticks": ""
             }
            },
            "type": "scattergeo"
           }
          ],
          "scattergl": [
           {
            "marker": {
             "colorbar": {
              "outlinewidth": 0,
              "ticks": ""
             }
            },
            "type": "scattergl"
           }
          ],
          "scattermapbox": [
           {
            "marker": {
             "colorbar": {
              "outlinewidth": 0,
              "ticks": ""
             }
            },
            "type": "scattermapbox"
           }
          ],
          "scatterpolar": [
           {
            "marker": {
             "colorbar": {
              "outlinewidth": 0,
              "ticks": ""
             }
            },
            "type": "scatterpolar"
           }
          ],
          "scatterpolargl": [
           {
            "marker": {
             "colorbar": {
              "outlinewidth": 0,
              "ticks": ""
             }
            },
            "type": "scatterpolargl"
           }
          ],
          "scatterternary": [
           {
            "marker": {
             "colorbar": {
              "outlinewidth": 0,
              "ticks": ""
             }
            },
            "type": "scatterternary"
           }
          ],
          "surface": [
           {
            "colorbar": {
             "outlinewidth": 0,
             "ticks": ""
            },
            "colorscale": [
             [
              0,
              "#0d0887"
             ],
             [
              0.1111111111111111,
              "#46039f"
             ],
             [
              0.2222222222222222,
              "#7201a8"
             ],
             [
              0.3333333333333333,
              "#9c179e"
             ],
             [
              0.4444444444444444,
              "#bd3786"
             ],
             [
              0.5555555555555556,
              "#d8576b"
             ],
             [
              0.6666666666666666,
              "#ed7953"
             ],
             [
              0.7777777777777778,
              "#fb9f3a"
             ],
             [
              0.8888888888888888,
              "#fdca26"
             ],
             [
              1,
              "#f0f921"
             ]
            ],
            "type": "surface"
           }
          ],
          "table": [
           {
            "cells": {
             "fill": {
              "color": "#EBF0F8"
             },
             "line": {
              "color": "white"
             }
            },
            "header": {
             "fill": {
              "color": "#C8D4E3"
             },
             "line": {
              "color": "white"
             }
            },
            "type": "table"
           }
          ]
         },
         "layout": {
          "annotationdefaults": {
           "arrowcolor": "#2a3f5f",
           "arrowhead": 0,
           "arrowwidth": 1
          },
          "autotypenumbers": "strict",
          "coloraxis": {
           "colorbar": {
            "outlinewidth": 0,
            "ticks": ""
           }
          },
          "colorscale": {
           "diverging": [
            [
             0,
             "#8e0152"
            ],
            [
             0.1,
             "#c51b7d"
            ],
            [
             0.2,
             "#de77ae"
            ],
            [
             0.3,
             "#f1b6da"
            ],
            [
             0.4,
             "#fde0ef"
            ],
            [
             0.5,
             "#f7f7f7"
            ],
            [
             0.6,
             "#e6f5d0"
            ],
            [
             0.7,
             "#b8e186"
            ],
            [
             0.8,
             "#7fbc41"
            ],
            [
             0.9,
             "#4d9221"
            ],
            [
             1,
             "#276419"
            ]
           ],
           "sequential": [
            [
             0,
             "#0d0887"
            ],
            [
             0.1111111111111111,
             "#46039f"
            ],
            [
             0.2222222222222222,
             "#7201a8"
            ],
            [
             0.3333333333333333,
             "#9c179e"
            ],
            [
             0.4444444444444444,
             "#bd3786"
            ],
            [
             0.5555555555555556,
             "#d8576b"
            ],
            [
             0.6666666666666666,
             "#ed7953"
            ],
            [
             0.7777777777777778,
             "#fb9f3a"
            ],
            [
             0.8888888888888888,
             "#fdca26"
            ],
            [
             1,
             "#f0f921"
            ]
           ],
           "sequentialminus": [
            [
             0,
             "#0d0887"
            ],
            [
             0.1111111111111111,
             "#46039f"
            ],
            [
             0.2222222222222222,
             "#7201a8"
            ],
            [
             0.3333333333333333,
             "#9c179e"
            ],
            [
             0.4444444444444444,
             "#bd3786"
            ],
            [
             0.5555555555555556,
             "#d8576b"
            ],
            [
             0.6666666666666666,
             "#ed7953"
            ],
            [
             0.7777777777777778,
             "#fb9f3a"
            ],
            [
             0.8888888888888888,
             "#fdca26"
            ],
            [
             1,
             "#f0f921"
            ]
           ]
          },
          "colorway": [
           "#636efa",
           "#EF553B",
           "#00cc96",
           "#ab63fa",
           "#FFA15A",
           "#19d3f3",
           "#FF6692",
           "#B6E880",
           "#FF97FF",
           "#FECB52"
          ],
          "font": {
           "color": "#2a3f5f"
          },
          "geo": {
           "bgcolor": "white",
           "lakecolor": "white",
           "landcolor": "#E5ECF6",
           "showlakes": true,
           "showland": true,
           "subunitcolor": "white"
          },
          "hoverlabel": {
           "align": "left"
          },
          "hovermode": "closest",
          "mapbox": {
           "style": "light"
          },
          "paper_bgcolor": "white",
          "plot_bgcolor": "#E5ECF6",
          "polar": {
           "angularaxis": {
            "gridcolor": "white",
            "linecolor": "white",
            "ticks": ""
           },
           "bgcolor": "#E5ECF6",
           "radialaxis": {
            "gridcolor": "white",
            "linecolor": "white",
            "ticks": ""
           }
          },
          "scene": {
           "xaxis": {
            "backgroundcolor": "#E5ECF6",
            "gridcolor": "white",
            "gridwidth": 2,
            "linecolor": "white",
            "showbackground": true,
            "ticks": "",
            "zerolinecolor": "white"
           },
           "yaxis": {
            "backgroundcolor": "#E5ECF6",
            "gridcolor": "white",
            "gridwidth": 2,
            "linecolor": "white",
            "showbackground": true,
            "ticks": "",
            "zerolinecolor": "white"
           },
           "zaxis": {
            "backgroundcolor": "#E5ECF6",
            "gridcolor": "white",
            "gridwidth": 2,
            "linecolor": "white",
            "showbackground": true,
            "ticks": "",
            "zerolinecolor": "white"
           }
          },
          "shapedefaults": {
           "line": {
            "color": "#2a3f5f"
           }
          },
          "ternary": {
           "aaxis": {
            "gridcolor": "white",
            "linecolor": "white",
            "ticks": ""
           },
           "baxis": {
            "gridcolor": "white",
            "linecolor": "white",
            "ticks": ""
           },
           "bgcolor": "#E5ECF6",
           "caxis": {
            "gridcolor": "white",
            "linecolor": "white",
            "ticks": ""
           }
          },
          "title": {
           "x": 0.05
          },
          "xaxis": {
           "automargin": true,
           "gridcolor": "white",
           "linecolor": "white",
           "ticks": "",
           "title": {
            "standoff": 15
           },
           "zerolinecolor": "white",
           "zerolinewidth": 2
          },
          "yaxis": {
           "automargin": true,
           "gridcolor": "white",
           "linecolor": "white",
           "ticks": "",
           "title": {
            "standoff": 15
           },
           "zerolinecolor": "white",
           "zerolinewidth": 2
          }
         }
        },
        "title": {
         "text": "台灣高等法院 交通事件&肇事逃逸維持率分佈"
        }
       }
      },
      "text/html": [
       "<div>                            <div id=\"0000a23d-72b4-48c6-9cf0-a976372fe1a3\" class=\"plotly-graph-div\" style=\"height:525px; width:100%;\"></div>            <script type=\"text/javascript\">                require([\"plotly\"], function(Plotly) {                    window.PLOTLYENV=window.PLOTLYENV || {};                                    if (document.getElementById(\"0000a23d-72b4-48c6-9cf0-a976372fe1a3\")) {                    Plotly.newPlot(                        \"0000a23d-72b4-48c6-9cf0-a976372fe1a3\",                        [{\"domain\": {\"x\": [0.0, 1.0], \"y\": [0.0, 1.0]}, \"hovertemplate\": \"\\u985e\\u578b=%{label}<br>\\u6848\\u4ef6\\u6578\\u91cf=%{value}<extra></extra>\", \"insidetextorientation\": \"radial\", \"labels\": [\"\\u8087\\u4e8b\\u9003\\u9038&\\u4e0a\\u8a34\\u5ee2\\u68c4\\u767c\\u56de\\u6216\\u6539\\u5224\", \"\\u8087\\u4e8b\\u9003\\u9038&\\u4e0a\\u8a34\\u99c1\\u56de\\u7dad\\u6301\\u539f\\u5224\"], \"legendgroup\": \"\", \"name\": \"\", \"showlegend\": true, \"textinfo\": \"percent+label\", \"textposition\": \"inside\", \"type\": \"pie\", \"values\": [1, 6]}],                        {\"legend\": {\"tracegroupgap\": 0}, \"template\": {\"data\": {\"bar\": [{\"error_x\": {\"color\": \"#2a3f5f\"}, \"error_y\": {\"color\": \"#2a3f5f\"}, \"marker\": {\"line\": {\"color\": \"#E5ECF6\", \"width\": 0.5}}, \"type\": \"bar\"}], \"barpolar\": [{\"marker\": {\"line\": {\"color\": \"#E5ECF6\", \"width\": 0.5}}, \"type\": \"barpolar\"}], \"carpet\": [{\"aaxis\": {\"endlinecolor\": \"#2a3f5f\", \"gridcolor\": \"white\", \"linecolor\": \"white\", \"minorgridcolor\": \"white\", \"startlinecolor\": \"#2a3f5f\"}, \"baxis\": {\"endlinecolor\": \"#2a3f5f\", \"gridcolor\": \"white\", \"linecolor\": \"white\", \"minorgridcolor\": \"white\", \"startlinecolor\": \"#2a3f5f\"}, \"type\": \"carpet\"}], \"choropleth\": [{\"colorbar\": {\"outlinewidth\": 0, \"ticks\": \"\"}, \"type\": \"choropleth\"}], \"contour\": [{\"colorbar\": {\"outlinewidth\": 0, \"ticks\": \"\"}, \"colorscale\": [[0.0, \"#0d0887\"], [0.1111111111111111, \"#46039f\"], [0.2222222222222222, \"#7201a8\"], [0.3333333333333333, \"#9c179e\"], [0.4444444444444444, \"#bd3786\"], [0.5555555555555556, \"#d8576b\"], [0.6666666666666666, \"#ed7953\"], [0.7777777777777778, \"#fb9f3a\"], [0.8888888888888888, \"#fdca26\"], [1.0, \"#f0f921\"]], \"type\": \"contour\"}], \"contourcarpet\": [{\"colorbar\": {\"outlinewidth\": 0, \"ticks\": \"\"}, \"type\": \"contourcarpet\"}], \"heatmap\": [{\"colorbar\": {\"outlinewidth\": 0, \"ticks\": \"\"}, \"colorscale\": [[0.0, \"#0d0887\"], [0.1111111111111111, \"#46039f\"], [0.2222222222222222, \"#7201a8\"], [0.3333333333333333, \"#9c179e\"], [0.4444444444444444, \"#bd3786\"], [0.5555555555555556, \"#d8576b\"], [0.6666666666666666, \"#ed7953\"], [0.7777777777777778, \"#fb9f3a\"], [0.8888888888888888, \"#fdca26\"], [1.0, \"#f0f921\"]], \"type\": \"heatmap\"}], \"heatmapgl\": [{\"colorbar\": {\"outlinewidth\": 0, \"ticks\": \"\"}, \"colorscale\": [[0.0, \"#0d0887\"], [0.1111111111111111, \"#46039f\"], [0.2222222222222222, \"#7201a8\"], [0.3333333333333333, \"#9c179e\"], [0.4444444444444444, \"#bd3786\"], [0.5555555555555556, \"#d8576b\"], [0.6666666666666666, \"#ed7953\"], [0.7777777777777778, \"#fb9f3a\"], [0.8888888888888888, \"#fdca26\"], [1.0, \"#f0f921\"]], \"type\": \"heatmapgl\"}], \"histogram\": [{\"marker\": {\"colorbar\": {\"outlinewidth\": 0, \"ticks\": \"\"}}, \"type\": \"histogram\"}], \"histogram2d\": [{\"colorbar\": {\"outlinewidth\": 0, \"ticks\": \"\"}, \"colorscale\": [[0.0, \"#0d0887\"], [0.1111111111111111, \"#46039f\"], [0.2222222222222222, \"#7201a8\"], [0.3333333333333333, \"#9c179e\"], [0.4444444444444444, \"#bd3786\"], [0.5555555555555556, \"#d8576b\"], [0.6666666666666666, \"#ed7953\"], [0.7777777777777778, \"#fb9f3a\"], [0.8888888888888888, \"#fdca26\"], [1.0, \"#f0f921\"]], \"type\": \"histogram2d\"}], \"histogram2dcontour\": [{\"colorbar\": {\"outlinewidth\": 0, \"ticks\": \"\"}, \"colorscale\": [[0.0, \"#0d0887\"], [0.1111111111111111, \"#46039f\"], [0.2222222222222222, \"#7201a8\"], [0.3333333333333333, \"#9c179e\"], [0.4444444444444444, \"#bd3786\"], [0.5555555555555556, \"#d8576b\"], [0.6666666666666666, \"#ed7953\"], [0.7777777777777778, \"#fb9f3a\"], [0.8888888888888888, \"#fdca26\"], [1.0, \"#f0f921\"]], \"type\": \"histogram2dcontour\"}], \"mesh3d\": [{\"colorbar\": {\"outlinewidth\": 0, \"ticks\": \"\"}, \"type\": \"mesh3d\"}], \"parcoords\": [{\"line\": {\"colorbar\": {\"outlinewidth\": 0, \"ticks\": \"\"}}, \"type\": \"parcoords\"}], \"pie\": [{\"automargin\": true, \"type\": \"pie\"}], \"scatter\": [{\"marker\": {\"colorbar\": {\"outlinewidth\": 0, \"ticks\": \"\"}}, \"type\": \"scatter\"}], \"scatter3d\": [{\"line\": {\"colorbar\": {\"outlinewidth\": 0, \"ticks\": \"\"}}, \"marker\": {\"colorbar\": {\"outlinewidth\": 0, \"ticks\": \"\"}}, \"type\": \"scatter3d\"}], \"scattercarpet\": [{\"marker\": {\"colorbar\": {\"outlinewidth\": 0, \"ticks\": \"\"}}, \"type\": \"scattercarpet\"}], \"scattergeo\": [{\"marker\": {\"colorbar\": {\"outlinewidth\": 0, \"ticks\": \"\"}}, \"type\": \"scattergeo\"}], \"scattergl\": [{\"marker\": {\"colorbar\": {\"outlinewidth\": 0, \"ticks\": \"\"}}, \"type\": \"scattergl\"}], \"scattermapbox\": [{\"marker\": {\"colorbar\": {\"outlinewidth\": 0, \"ticks\": \"\"}}, \"type\": \"scattermapbox\"}], \"scatterpolar\": [{\"marker\": {\"colorbar\": {\"outlinewidth\": 0, \"ticks\": \"\"}}, \"type\": \"scatterpolar\"}], \"scatterpolargl\": [{\"marker\": {\"colorbar\": {\"outlinewidth\": 0, \"ticks\": \"\"}}, \"type\": \"scatterpolargl\"}], \"scatterternary\": [{\"marker\": {\"colorbar\": {\"outlinewidth\": 0, \"ticks\": \"\"}}, \"type\": \"scatterternary\"}], \"surface\": [{\"colorbar\": {\"outlinewidth\": 0, \"ticks\": \"\"}, \"colorscale\": [[0.0, \"#0d0887\"], [0.1111111111111111, \"#46039f\"], [0.2222222222222222, \"#7201a8\"], [0.3333333333333333, \"#9c179e\"], [0.4444444444444444, \"#bd3786\"], [0.5555555555555556, \"#d8576b\"], [0.6666666666666666, \"#ed7953\"], [0.7777777777777778, \"#fb9f3a\"], [0.8888888888888888, \"#fdca26\"], [1.0, \"#f0f921\"]], \"type\": \"surface\"}], \"table\": [{\"cells\": {\"fill\": {\"color\": \"#EBF0F8\"}, \"line\": {\"color\": \"white\"}}, \"header\": {\"fill\": {\"color\": \"#C8D4E3\"}, \"line\": {\"color\": \"white\"}}, \"type\": \"table\"}]}, \"layout\": {\"annotationdefaults\": {\"arrowcolor\": \"#2a3f5f\", \"arrowhead\": 0, \"arrowwidth\": 1}, \"autotypenumbers\": \"strict\", \"coloraxis\": {\"colorbar\": {\"outlinewidth\": 0, \"ticks\": \"\"}}, \"colorscale\": {\"diverging\": [[0, \"#8e0152\"], [0.1, \"#c51b7d\"], [0.2, \"#de77ae\"], [0.3, \"#f1b6da\"], [0.4, \"#fde0ef\"], [0.5, \"#f7f7f7\"], [0.6, \"#e6f5d0\"], [0.7, \"#b8e186\"], [0.8, \"#7fbc41\"], [0.9, \"#4d9221\"], [1, \"#276419\"]], \"sequential\": [[0.0, \"#0d0887\"], [0.1111111111111111, \"#46039f\"], [0.2222222222222222, \"#7201a8\"], [0.3333333333333333, \"#9c179e\"], [0.4444444444444444, \"#bd3786\"], [0.5555555555555556, \"#d8576b\"], [0.6666666666666666, \"#ed7953\"], [0.7777777777777778, \"#fb9f3a\"], [0.8888888888888888, \"#fdca26\"], [1.0, \"#f0f921\"]], \"sequentialminus\": [[0.0, \"#0d0887\"], [0.1111111111111111, \"#46039f\"], [0.2222222222222222, \"#7201a8\"], [0.3333333333333333, \"#9c179e\"], [0.4444444444444444, \"#bd3786\"], [0.5555555555555556, \"#d8576b\"], [0.6666666666666666, \"#ed7953\"], [0.7777777777777778, \"#fb9f3a\"], [0.8888888888888888, \"#fdca26\"], [1.0, \"#f0f921\"]]}, \"colorway\": [\"#636efa\", \"#EF553B\", \"#00cc96\", \"#ab63fa\", \"#FFA15A\", \"#19d3f3\", \"#FF6692\", \"#B6E880\", \"#FF97FF\", \"#FECB52\"], \"font\": {\"color\": \"#2a3f5f\"}, \"geo\": {\"bgcolor\": \"white\", \"lakecolor\": \"white\", \"landcolor\": \"#E5ECF6\", \"showlakes\": true, \"showland\": true, \"subunitcolor\": \"white\"}, \"hoverlabel\": {\"align\": \"left\"}, \"hovermode\": \"closest\", \"mapbox\": {\"style\": \"light\"}, \"paper_bgcolor\": \"white\", \"plot_bgcolor\": \"#E5ECF6\", \"polar\": {\"angularaxis\": {\"gridcolor\": \"white\", \"linecolor\": \"white\", \"ticks\": \"\"}, \"bgcolor\": \"#E5ECF6\", \"radialaxis\": {\"gridcolor\": \"white\", \"linecolor\": \"white\", \"ticks\": \"\"}}, \"scene\": {\"xaxis\": {\"backgroundcolor\": \"#E5ECF6\", \"gridcolor\": \"white\", \"gridwidth\": 2, \"linecolor\": \"white\", \"showbackground\": true, \"ticks\": \"\", \"zerolinecolor\": \"white\"}, \"yaxis\": {\"backgroundcolor\": \"#E5ECF6\", \"gridcolor\": \"white\", \"gridwidth\": 2, \"linecolor\": \"white\", \"showbackground\": true, \"ticks\": \"\", \"zerolinecolor\": \"white\"}, \"zaxis\": {\"backgroundcolor\": \"#E5ECF6\", \"gridcolor\": \"white\", \"gridwidth\": 2, \"linecolor\": \"white\", \"showbackground\": true, \"ticks\": \"\", \"zerolinecolor\": \"white\"}}, \"shapedefaults\": {\"line\": {\"color\": \"#2a3f5f\"}}, \"ternary\": {\"aaxis\": {\"gridcolor\": \"white\", \"linecolor\": \"white\", \"ticks\": \"\"}, \"baxis\": {\"gridcolor\": \"white\", \"linecolor\": \"white\", \"ticks\": \"\"}, \"bgcolor\": \"#E5ECF6\", \"caxis\": {\"gridcolor\": \"white\", \"linecolor\": \"white\", \"ticks\": \"\"}}, \"title\": {\"x\": 0.05}, \"xaxis\": {\"automargin\": true, \"gridcolor\": \"white\", \"linecolor\": \"white\", \"ticks\": \"\", \"title\": {\"standoff\": 15}, \"zerolinecolor\": \"white\", \"zerolinewidth\": 2}, \"yaxis\": {\"automargin\": true, \"gridcolor\": \"white\", \"linecolor\": \"white\", \"ticks\": \"\", \"title\": {\"standoff\": 15}, \"zerolinecolor\": \"white\", \"zerolinewidth\": 2}}}, \"title\": {\"text\": \"\\u53f0\\u7063\\u9ad8\\u7b49\\u6cd5\\u9662 \\u4ea4\\u901a\\u4e8b\\u4ef6&\\u8087\\u4e8b\\u9003\\u9038\\u7dad\\u6301\\u7387\\u5206\\u4f48\"}},                        {\"responsive\": true}                    ).then(function(){\n",
       "                            \n",
       "var gd = document.getElementById('0000a23d-72b4-48c6-9cf0-a976372fe1a3');\n",
       "var x = new MutationObserver(function (mutations, observer) {{\n",
       "        var display = window.getComputedStyle(gd).display;\n",
       "        if (!display || display === 'none') {{\n",
       "            console.log([gd, 'removed!']);\n",
       "            Plotly.purge(gd);\n",
       "            observer.disconnect();\n",
       "        }}\n",
       "}});\n",
       "\n",
       "// Listen for the removal of the full notebook cells\n",
       "var notebookContainer = gd.closest('#notebook-container');\n",
       "if (notebookContainer) {{\n",
       "    x.observe(notebookContainer, {childList: true});\n",
       "}}\n",
       "\n",
       "// Listen for the clearing of the current output cell\n",
       "var outputEl = gd.closest('.output');\n",
       "if (outputEl) {{\n",
       "    x.observe(outputEl, {childList: true});\n",
       "}}\n",
       "\n",
       "                        })                };                });            </script>        </div>"
      ]
     },
     "metadata": {},
     "output_type": "display_data"
    }
   ],
   "source": [
    "reason(\"肇事逃逸\")"
   ]
  },
  {
   "cell_type": "code",
   "execution_count": 34,
   "metadata": {},
   "outputs": [
    {
     "data": {
      "text/html": [
       "<div>\n",
       "<style scoped>\n",
       "    .dataframe tbody tr th:only-of-type {\n",
       "        vertical-align: middle;\n",
       "    }\n",
       "\n",
       "    .dataframe tbody tr th {\n",
       "        vertical-align: top;\n",
       "    }\n",
       "\n",
       "    .dataframe thead th {\n",
       "        text-align: right;\n",
       "    }\n",
       "</style>\n",
       "<table border=\"1\" class=\"dataframe\">\n",
       "  <thead>\n",
       "    <tr style=\"text-align: right;\">\n",
       "      <th></th>\n",
       "      <th>裁判字號</th>\n",
       "      <th>裁判日期</th>\n",
       "      <th>裁判案由</th>\n",
       "      <th>內文</th>\n",
       "      <th>主文</th>\n",
       "      <th>是否被駁回</th>\n",
       "    </tr>\n",
       "  </thead>\n",
       "  <tbody>\n",
       "    <tr>\n",
       "      <th>0</th>\n",
       "      <td>\\r\\n                    臺灣高等法院 110 年上易字第 295 號...</td>\n",
       "      <td>\\r\\n                    民國 110 年 06 月 29 日</td>\n",
       "      <td>\\r\\n                    侵權行為損害賠償\\r\\n          ...</td>\n",
       "      <td>\\n\\n\\n\\n臺灣高等法院民事判決110年度上易字第295號上  訴  人  周楷翔  訴...</td>\n",
       "      <td>\\n\\n\\n\\n臺灣高等法院民事判決110年度上易字第295號上  訴  人  周楷翔  訴...</td>\n",
       "      <td>yes</td>\n",
       "    </tr>\n",
       "    <tr>\n",
       "      <th>1</th>\n",
       "      <td>\\r\\n                    臺灣高等法院 109 年上易字第 1122 ...</td>\n",
       "      <td>\\r\\n                    民國 110 年 05 月 26 日</td>\n",
       "      <td>\\r\\n                    損害賠償\\r\\n</td>\n",
       "      <td>\\n\\n\\n\\n臺灣高等法院民事判決109年度上易字第1122號上  訴  人  黃建融  ...</td>\n",
       "      <td>\\n\\n\\n\\n臺灣高等法院民事判決109年度上易字第1122號上  訴  人  黃建融  ...</td>\n",
       "      <td>yes</td>\n",
       "    </tr>\n",
       "    <tr>\n",
       "      <th>2</th>\n",
       "      <td>\\r\\n                    臺灣高等法院 109 年上易字第 275 號...</td>\n",
       "      <td>\\r\\n                    民國 110 年 05 月 26 日</td>\n",
       "      <td>\\r\\n                    侵權行為損害賠償\\r\\n          ...</td>\n",
       "      <td>\\n\\n\\n\\n臺灣高等法院民事判決109年度上易字第275號上訴人即附帶被上訴人  來泰廷...</td>\n",
       "      <td>\\n\\n\\n\\n臺灣高等法院民事判決109年度上易字第275號上訴人即附帶被上訴人  來泰廷...</td>\n",
       "      <td>yes</td>\n",
       "    </tr>\n",
       "    <tr>\n",
       "      <th>3</th>\n",
       "      <td>\\r\\n                    臺灣高等法院 109 年上易字第 1231 ...</td>\n",
       "      <td>\\r\\n                    民國 110 年 05 月 19 日</td>\n",
       "      <td>\\r\\n                    侵權行為損害賠償\\r\\n          ...</td>\n",
       "      <td>\\n\\n\\n\\n臺灣高等法院民事判決109年度上易字第1231號上  訴  人  莊淵棋（兼...</td>\n",
       "      <td>\\n\\n\\n\\n臺灣高等法院民事判決109年度上易字第1231號上  訴  人  莊淵棋（兼...</td>\n",
       "      <td>yes</td>\n",
       "    </tr>\n",
       "    <tr>\n",
       "      <th>4</th>\n",
       "      <td>\\r\\n                    臺灣高等法院 110 年上易字第 107 號...</td>\n",
       "      <td>\\r\\n                    民國 110 年 05 月 12 日</td>\n",
       "      <td>\\r\\n                    損害賠償\\r\\n</td>\n",
       "      <td>\\n\\n\\n\\n臺灣高等法院民事判決110年度上易字第107號上  訴  人  鄭國欽  被...</td>\n",
       "      <td>\\n\\n\\n\\n臺灣高等法院民事判決110年度上易字第107號上  訴  人  鄭國欽  被...</td>\n",
       "      <td>yes</td>\n",
       "    </tr>\n",
       "    <tr>\n",
       "      <th>...</th>\n",
       "      <td>...</td>\n",
       "      <td>...</td>\n",
       "      <td>...</td>\n",
       "      <td>...</td>\n",
       "      <td>...</td>\n",
       "      <td>...</td>\n",
       "    </tr>\n",
       "    <tr>\n",
       "      <th>448</th>\n",
       "      <td>\\r\\n                    臺灣高等法院 103 年上易字第 720 號...</td>\n",
       "      <td>\\r\\n                    民國 104 年 01 月 14 日</td>\n",
       "      <td>\\r\\n                    損害賠償\\r\\n</td>\n",
       "      <td>\\n\\n\\n\\n\\n臺灣高等法院民事判決　　　　　　　　103年度上易字第720號\\r\\n上...</td>\n",
       "      <td>\\r\\n原判決關於駁回被上訴人李美芳後開第二項之訴部分，及該部分\\r\\n假執行之聲請，暨訴訟...</td>\n",
       "      <td>yes</td>\n",
       "    </tr>\n",
       "    <tr>\n",
       "      <th>449</th>\n",
       "      <td>\\r\\n                    臺灣高等法院 102 年上易字第 969 號...</td>\n",
       "      <td>\\r\\n                    民國 104 年 01 月 14 日</td>\n",
       "      <td>\\r\\n                    損害賠償\\r\\n</td>\n",
       "      <td>\\n\\n\\n\\n\\n臺灣高等法院民事判決　　　　　　　　102年度上易字第969號\\r\\n上...</td>\n",
       "      <td>\\n\\n\\n\\n\\n臺灣高等法院民事判決　　　　　　　　102年度上易字第969號\\r\\n上...</td>\n",
       "      <td>yes</td>\n",
       "    </tr>\n",
       "    <tr>\n",
       "      <th>450</th>\n",
       "      <td>\\r\\n                    臺灣高等法院 103 年上易字第 1251 ...</td>\n",
       "      <td>\\r\\n                    民國 104 年 01 月 13 日</td>\n",
       "      <td>\\r\\n                    侵權行為損害賠償\\r\\n          ...</td>\n",
       "      <td>\\n\\n\\n\\n\\n臺灣高等法院民事判決　　　　　　　 103年度上易字第1251號\\r\\n...</td>\n",
       "      <td>\\r\\n原判決關於駁回上訴人後開第二項之訴部分，暨訴訟費用（除確\\r\\n定部分外）之裁判均廢...</td>\n",
       "      <td>yes</td>\n",
       "    </tr>\n",
       "    <tr>\n",
       "      <th>451</th>\n",
       "      <td>\\r\\n                    臺灣高等法院 103 年上易字第 1047 ...</td>\n",
       "      <td>\\r\\n                    民國 104 年 01 月 06 日</td>\n",
       "      <td>\\r\\n                    損害賠償\\r\\n</td>\n",
       "      <td>\\n\\n\\n\\n\\n臺灣高等法院民事判決　　　　　　　 103年度上易字第1047號\\r\\n...</td>\n",
       "      <td>\\n\\n\\n\\n\\n臺灣高等法院民事判決　　　　　　　 103年度上易字第1047號\\r\\n...</td>\n",
       "      <td>yes</td>\n",
       "    </tr>\n",
       "    <tr>\n",
       "      <th>452</th>\n",
       "      <td>\\r\\n                    臺灣高等法院 102 年上字第 1198 號...</td>\n",
       "      <td>\\r\\n                    民國 104 年 01 月 06 日</td>\n",
       "      <td>\\r\\n                    侵權行為損害賠償\\r\\n          ...</td>\n",
       "      <td>\\n\\n\\n\\n\\n臺灣高等法院民事判決　　　　　　　　 102年度上字第1198號\\r\\n...</td>\n",
       "      <td>\\r\\n原判決關於命上訴人給付逾新臺幣壹佰柒拾壹萬零玖佰捌拾伍元\\r\\n本息，及該部分假執行...</td>\n",
       "      <td>yes</td>\n",
       "    </tr>\n",
       "  </tbody>\n",
       "</table>\n",
       "<p>416 rows × 6 columns</p>\n",
       "</div>"
      ],
      "text/plain": [
       "                                                  裁判字號  \\\n",
       "0    \\r\\n                    臺灣高等法院 110 年上易字第 295 號...   \n",
       "1    \\r\\n                    臺灣高等法院 109 年上易字第 1122 ...   \n",
       "2    \\r\\n                    臺灣高等法院 109 年上易字第 275 號...   \n",
       "3    \\r\\n                    臺灣高等法院 109 年上易字第 1231 ...   \n",
       "4    \\r\\n                    臺灣高等法院 110 年上易字第 107 號...   \n",
       "..                                                 ...   \n",
       "448  \\r\\n                    臺灣高等法院 103 年上易字第 720 號...   \n",
       "449  \\r\\n                    臺灣高等法院 102 年上易字第 969 號...   \n",
       "450  \\r\\n                    臺灣高等法院 103 年上易字第 1251 ...   \n",
       "451  \\r\\n                    臺灣高等法院 103 年上易字第 1047 ...   \n",
       "452  \\r\\n                    臺灣高等法院 102 年上字第 1198 號...   \n",
       "\n",
       "                                           裁判日期  \\\n",
       "0    \\r\\n                    民國 110 年 06 月 29 日   \n",
       "1    \\r\\n                    民國 110 年 05 月 26 日   \n",
       "2    \\r\\n                    民國 110 年 05 月 26 日   \n",
       "3    \\r\\n                    民國 110 年 05 月 19 日   \n",
       "4    \\r\\n                    民國 110 年 05 月 12 日   \n",
       "..                                          ...   \n",
       "448  \\r\\n                    民國 104 年 01 月 14 日   \n",
       "449  \\r\\n                    民國 104 年 01 月 14 日   \n",
       "450  \\r\\n                    民國 104 年 01 月 13 日   \n",
       "451  \\r\\n                    民國 104 年 01 月 06 日   \n",
       "452  \\r\\n                    民國 104 年 01 月 06 日   \n",
       "\n",
       "                                                  裁判案由  \\\n",
       "0    \\r\\n                    侵權行為損害賠償\\r\\n          ...   \n",
       "1     \\r\\n                    損害賠償\\r\\n                   \n",
       "2    \\r\\n                    侵權行為損害賠償\\r\\n          ...   \n",
       "3    \\r\\n                    侵權行為損害賠償\\r\\n          ...   \n",
       "4     \\r\\n                    損害賠償\\r\\n                   \n",
       "..                                                 ...   \n",
       "448   \\r\\n                    損害賠償\\r\\n                   \n",
       "449   \\r\\n                    損害賠償\\r\\n                   \n",
       "450  \\r\\n                    侵權行為損害賠償\\r\\n          ...   \n",
       "451   \\r\\n                    損害賠償\\r\\n                   \n",
       "452  \\r\\n                    侵權行為損害賠償\\r\\n          ...   \n",
       "\n",
       "                                                    內文  \\\n",
       "0    \\n\\n\\n\\n臺灣高等法院民事判決110年度上易字第295號上  訴  人  周楷翔  訴...   \n",
       "1    \\n\\n\\n\\n臺灣高等法院民事判決109年度上易字第1122號上  訴  人  黃建融  ...   \n",
       "2    \\n\\n\\n\\n臺灣高等法院民事判決109年度上易字第275號上訴人即附帶被上訴人  來泰廷...   \n",
       "3    \\n\\n\\n\\n臺灣高等法院民事判決109年度上易字第1231號上  訴  人  莊淵棋（兼...   \n",
       "4    \\n\\n\\n\\n臺灣高等法院民事判決110年度上易字第107號上  訴  人  鄭國欽  被...   \n",
       "..                                                 ...   \n",
       "448  \\n\\n\\n\\n\\n臺灣高等法院民事判決　　　　　　　　103年度上易字第720號\\r\\n上...   \n",
       "449  \\n\\n\\n\\n\\n臺灣高等法院民事判決　　　　　　　　102年度上易字第969號\\r\\n上...   \n",
       "450  \\n\\n\\n\\n\\n臺灣高等法院民事判決　　　　　　　 103年度上易字第1251號\\r\\n...   \n",
       "451  \\n\\n\\n\\n\\n臺灣高等法院民事判決　　　　　　　 103年度上易字第1047號\\r\\n...   \n",
       "452  \\n\\n\\n\\n\\n臺灣高等法院民事判決　　　　　　　　 102年度上字第1198號\\r\\n...   \n",
       "\n",
       "                                                    主文 是否被駁回  \n",
       "0    \\n\\n\\n\\n臺灣高等法院民事判決110年度上易字第295號上  訴  人  周楷翔  訴...   yes  \n",
       "1    \\n\\n\\n\\n臺灣高等法院民事判決109年度上易字第1122號上  訴  人  黃建融  ...   yes  \n",
       "2    \\n\\n\\n\\n臺灣高等法院民事判決109年度上易字第275號上訴人即附帶被上訴人  來泰廷...   yes  \n",
       "3    \\n\\n\\n\\n臺灣高等法院民事判決109年度上易字第1231號上  訴  人  莊淵棋（兼...   yes  \n",
       "4    \\n\\n\\n\\n臺灣高等法院民事判決110年度上易字第107號上  訴  人  鄭國欽  被...   yes  \n",
       "..                                                 ...   ...  \n",
       "448  \\r\\n原判決關於駁回被上訴人李美芳後開第二項之訴部分，及該部分\\r\\n假執行之聲請，暨訴訟...   yes  \n",
       "449  \\n\\n\\n\\n\\n臺灣高等法院民事判決　　　　　　　　102年度上易字第969號\\r\\n上...   yes  \n",
       "450  \\r\\n原判決關於駁回上訴人後開第二項之訴部分，暨訴訟費用（除確\\r\\n定部分外）之裁判均廢...   yes  \n",
       "451  \\n\\n\\n\\n\\n臺灣高等法院民事判決　　　　　　　 103年度上易字第1047號\\r\\n...   yes  \n",
       "452  \\r\\n原判決關於命上訴人給付逾新臺幣壹佰柒拾壹萬零玖佰捌拾伍元\\r\\n本息，及該部分假執行...   yes  \n",
       "\n",
       "[416 rows x 6 columns]"
      ]
     },
     "execution_count": 34,
     "metadata": {},
     "output_type": "execute_result"
    }
   ],
   "source": [
    "yes_data"
   ]
  },
  {
   "cell_type": "code",
   "execution_count": 41,
   "metadata": {},
   "outputs": [],
   "source": [
    "new1=len(data[data[\"主文\"].str.contains(\"酒駕\")])"
   ]
  },
  {
   "cell_type": "code",
   "execution_count": 45,
   "metadata": {},
   "outputs": [],
   "source": [
    "number_word =yes_data[yes_data[\"主文\"].str.contains(\"酒駕\")]"
   ]
  },
  {
   "cell_type": "code",
   "execution_count": 46,
   "metadata": {},
   "outputs": [
    {
     "data": {
      "text/html": [
       "<div>\n",
       "<style scoped>\n",
       "    .dataframe tbody tr th:only-of-type {\n",
       "        vertical-align: middle;\n",
       "    }\n",
       "\n",
       "    .dataframe tbody tr th {\n",
       "        vertical-align: top;\n",
       "    }\n",
       "\n",
       "    .dataframe thead th {\n",
       "        text-align: right;\n",
       "    }\n",
       "</style>\n",
       "<table border=\"1\" class=\"dataframe\">\n",
       "  <thead>\n",
       "    <tr style=\"text-align: right;\">\n",
       "      <th></th>\n",
       "      <th>裁判字號</th>\n",
       "      <th>裁判日期</th>\n",
       "      <th>裁判案由</th>\n",
       "      <th>內文</th>\n",
       "      <th>主文</th>\n",
       "      <th>是否被駁回</th>\n",
       "    </tr>\n",
       "  </thead>\n",
       "  <tbody>\n",
       "    <tr>\n",
       "      <th>67</th>\n",
       "      <td>\\r\\n                    臺灣高等法院 108 年上易字第 1296 ...</td>\n",
       "      <td>\\r\\n                    民國 109 年 04 月 30 日</td>\n",
       "      <td>\\r\\n                    侵權行為損害賠償\\r\\n          ...</td>\n",
       "      <td>\\n\\n\\n\\n臺灣高等法院民事判決108年度上易字第1296號上  訴  人  李金妹  ...</td>\n",
       "      <td>\\n\\n\\n\\n臺灣高等法院民事判決108年度上易字第1296號上  訴  人  李金妹  ...</td>\n",
       "      <td>yes</td>\n",
       "    </tr>\n",
       "    <tr>\n",
       "      <th>236</th>\n",
       "      <td>\\r\\n                    臺灣高等法院 106 年上易字第 383 號...</td>\n",
       "      <td>\\r\\n                    民國 106 年 11 月 14 日</td>\n",
       "      <td>\\r\\n                    損害賠償等\\r\\n</td>\n",
       "      <td>\\n\\n\\n\\n\\n臺灣高等法院民事判決　　　　　　　　106年度上易字第383號\\r\\n上...</td>\n",
       "      <td>\\n\\n\\n\\n\\n臺灣高等法院民事判決　　　　　　　　106年度上易字第383號\\r\\n上...</td>\n",
       "      <td>yes</td>\n",
       "    </tr>\n",
       "    <tr>\n",
       "      <th>294</th>\n",
       "      <td>\\r\\n                    臺灣高等法院 105 年上字第 1135 號...</td>\n",
       "      <td>\\r\\n                    民國 106 年 03 月 15 日</td>\n",
       "      <td>\\r\\n                    損害賠償\\r\\n</td>\n",
       "      <td>\\n\\n\\n\\n\\n臺灣高等法院民事判決　　　　　　　　 105年度上字第1135號\\r\\n...</td>\n",
       "      <td>\\r\\n原判決關於命上訴人給付被上訴人新臺幣壹拾肆萬捌仟玖佰肆拾\\r\\n元本息及該部分假執行...</td>\n",
       "      <td>yes</td>\n",
       "    </tr>\n",
       "    <tr>\n",
       "      <th>344</th>\n",
       "      <td>\\r\\n                    臺灣高等法院 103 年上字第 1363 號...</td>\n",
       "      <td>\\r\\n                    民國 105 年 05 月 17 日</td>\n",
       "      <td>\\r\\n                    損害賠償\\r\\n</td>\n",
       "      <td>\\n\\n\\n\\n\\n臺灣高等法院民事判決　　　　　　　　 103年度上字第1363號\\r\\n...</td>\n",
       "      <td>\\r\\n原判決關於駁回附帶上訴人後開第二項之訴部分，及該部分假執\\r\\n行之聲請暨訴訟費用之...</td>\n",
       "      <td>yes</td>\n",
       "    </tr>\n",
       "    <tr>\n",
       "      <th>402</th>\n",
       "      <td>\\r\\n                    臺灣高等法院 103 年保險上易字第 25 ...</td>\n",
       "      <td>\\r\\n                    民國 104 年 07 月 22 日</td>\n",
       "      <td>\\r\\n                    給付保險金\\r\\n</td>\n",
       "      <td>\\n\\n\\n\\n\\n臺灣高等法院民事判決　　　　　　 103年度保險上易字第25號\\r\\n上...</td>\n",
       "      <td>\\n\\n\\n\\n\\n臺灣高等法院民事判決　　　　　　 103年度保險上易字第25號\\r\\n上...</td>\n",
       "      <td>yes</td>\n",
       "    </tr>\n",
       "    <tr>\n",
       "      <th>438</th>\n",
       "      <td>\\r\\n                    臺灣高等法院 101 年重上字第 392 號...</td>\n",
       "      <td>\\r\\n                    民國 104 年 03 月 31 日</td>\n",
       "      <td>\\r\\n                    損害賠償\\r\\n</td>\n",
       "      <td>\\n\\n\\n\\n\\n臺灣高等法院民事判決　　　　　　　　101年度重上字第392號\\r\\n上...</td>\n",
       "      <td>\\n\\n\\n\\n\\n臺灣高等法院民事判決　　　　　　　　101年度重上字第392號\\r\\n上...</td>\n",
       "      <td>yes</td>\n",
       "    </tr>\n",
       "    <tr>\n",
       "      <th>439</th>\n",
       "      <td>\\r\\n                    臺灣高等法院 103 年上易字第 365 號...</td>\n",
       "      <td>\\r\\n                    民國 104 年 03 月 25 日</td>\n",
       "      <td>\\r\\n                    損害賠償\\r\\n</td>\n",
       "      <td>\\n\\n\\n\\n\\n臺灣高等法院民事判決　　　　　　　　103年度上易字第365號\\r\\n上...</td>\n",
       "      <td>\\n\\n\\n\\n\\n臺灣高等法院民事判決　　　　　　　　103年度上易字第365號\\r\\n上...</td>\n",
       "      <td>yes</td>\n",
       "    </tr>\n",
       "    <tr>\n",
       "      <th>440</th>\n",
       "      <td>\\r\\n                    臺灣高等法院 103 年上字第 712 號民事判決</td>\n",
       "      <td>\\r\\n                    民國 104 年 03 月 24 日</td>\n",
       "      <td>\\r\\n                    損害賠償\\r\\n</td>\n",
       "      <td>\\n\\n\\n\\n\\n臺灣高等法院民事判決　　　　　　　　　103年度上字第712號\\r\\n上...</td>\n",
       "      <td>\\r\\n原判決關於駁回上訴人後開第二項之訴部分，及訴訟費用（除確\\r\\n定部分外）之裁判均廢...</td>\n",
       "      <td>yes</td>\n",
       "    </tr>\n",
       "    <tr>\n",
       "      <th>446</th>\n",
       "      <td>\\r\\n                    臺灣高等法院 102 年上字第 588 號民事判決</td>\n",
       "      <td>\\r\\n                    民國 104 年 01 月 28 日</td>\n",
       "      <td>\\r\\n                    損害賠償\\r\\n</td>\n",
       "      <td>\\n\\n\\n\\n\\n臺灣高等法院民事判決　　　　　　　　　102年度上字第588號\\r\\n上...</td>\n",
       "      <td>\\n\\n\\n\\n\\n臺灣高等法院民事判決　　　　　　　　　102年度上字第588號\\r\\n上...</td>\n",
       "      <td>yes</td>\n",
       "    </tr>\n",
       "  </tbody>\n",
       "</table>\n",
       "</div>"
      ],
      "text/plain": [
       "                                                  裁判字號  \\\n",
       "67   \\r\\n                    臺灣高等法院 108 年上易字第 1296 ...   \n",
       "236  \\r\\n                    臺灣高等法院 106 年上易字第 383 號...   \n",
       "294  \\r\\n                    臺灣高等法院 105 年上字第 1135 號...   \n",
       "344  \\r\\n                    臺灣高等法院 103 年上字第 1363 號...   \n",
       "402  \\r\\n                    臺灣高等法院 103 年保險上易字第 25 ...   \n",
       "438  \\r\\n                    臺灣高等法院 101 年重上字第 392 號...   \n",
       "439  \\r\\n                    臺灣高等法院 103 年上易字第 365 號...   \n",
       "440  \\r\\n                    臺灣高等法院 103 年上字第 712 號民事判決   \n",
       "446  \\r\\n                    臺灣高等法院 102 年上字第 588 號民事判決   \n",
       "\n",
       "                                           裁判日期  \\\n",
       "67   \\r\\n                    民國 109 年 04 月 30 日   \n",
       "236  \\r\\n                    民國 106 年 11 月 14 日   \n",
       "294  \\r\\n                    民國 106 年 03 月 15 日   \n",
       "344  \\r\\n                    民國 105 年 05 月 17 日   \n",
       "402  \\r\\n                    民國 104 年 07 月 22 日   \n",
       "438  \\r\\n                    民國 104 年 03 月 31 日   \n",
       "439  \\r\\n                    民國 104 年 03 月 25 日   \n",
       "440  \\r\\n                    民國 104 年 03 月 24 日   \n",
       "446  \\r\\n                    民國 104 年 01 月 28 日   \n",
       "\n",
       "                                                  裁判案由  \\\n",
       "67   \\r\\n                    侵權行為損害賠償\\r\\n          ...   \n",
       "236  \\r\\n                    損害賠償等\\r\\n                   \n",
       "294   \\r\\n                    損害賠償\\r\\n                   \n",
       "344   \\r\\n                    損害賠償\\r\\n                   \n",
       "402  \\r\\n                    給付保險金\\r\\n                   \n",
       "438   \\r\\n                    損害賠償\\r\\n                   \n",
       "439   \\r\\n                    損害賠償\\r\\n                   \n",
       "440   \\r\\n                    損害賠償\\r\\n                   \n",
       "446   \\r\\n                    損害賠償\\r\\n                   \n",
       "\n",
       "                                                    內文  \\\n",
       "67   \\n\\n\\n\\n臺灣高等法院民事判決108年度上易字第1296號上  訴  人  李金妹  ...   \n",
       "236  \\n\\n\\n\\n\\n臺灣高等法院民事判決　　　　　　　　106年度上易字第383號\\r\\n上...   \n",
       "294  \\n\\n\\n\\n\\n臺灣高等法院民事判決　　　　　　　　 105年度上字第1135號\\r\\n...   \n",
       "344  \\n\\n\\n\\n\\n臺灣高等法院民事判決　　　　　　　　 103年度上字第1363號\\r\\n...   \n",
       "402  \\n\\n\\n\\n\\n臺灣高等法院民事判決　　　　　　 103年度保險上易字第25號\\r\\n上...   \n",
       "438  \\n\\n\\n\\n\\n臺灣高等法院民事判決　　　　　　　　101年度重上字第392號\\r\\n上...   \n",
       "439  \\n\\n\\n\\n\\n臺灣高等法院民事判決　　　　　　　　103年度上易字第365號\\r\\n上...   \n",
       "440  \\n\\n\\n\\n\\n臺灣高等法院民事判決　　　　　　　　　103年度上字第712號\\r\\n上...   \n",
       "446  \\n\\n\\n\\n\\n臺灣高等法院民事判決　　　　　　　　　102年度上字第588號\\r\\n上...   \n",
       "\n",
       "                                                    主文 是否被駁回  \n",
       "67   \\n\\n\\n\\n臺灣高等法院民事判決108年度上易字第1296號上  訴  人  李金妹  ...   yes  \n",
       "236  \\n\\n\\n\\n\\n臺灣高等法院民事判決　　　　　　　　106年度上易字第383號\\r\\n上...   yes  \n",
       "294  \\r\\n原判決關於命上訴人給付被上訴人新臺幣壹拾肆萬捌仟玖佰肆拾\\r\\n元本息及該部分假執行...   yes  \n",
       "344  \\r\\n原判決關於駁回附帶上訴人後開第二項之訴部分，及該部分假執\\r\\n行之聲請暨訴訟費用之...   yes  \n",
       "402  \\n\\n\\n\\n\\n臺灣高等法院民事判決　　　　　　 103年度保險上易字第25號\\r\\n上...   yes  \n",
       "438  \\n\\n\\n\\n\\n臺灣高等法院民事判決　　　　　　　　101年度重上字第392號\\r\\n上...   yes  \n",
       "439  \\n\\n\\n\\n\\n臺灣高等法院民事判決　　　　　　　　103年度上易字第365號\\r\\n上...   yes  \n",
       "440  \\r\\n原判決關於駁回上訴人後開第二項之訴部分，及訴訟費用（除確\\r\\n定部分外）之裁判均廢...   yes  \n",
       "446  \\n\\n\\n\\n\\n臺灣高等法院民事判決　　　　　　　　　102年度上字第588號\\r\\n上...   yes  "
      ]
     },
     "execution_count": 46,
     "metadata": {},
     "output_type": "execute_result"
    }
   ],
   "source": [
    "number_word"
   ]
  },
  {
   "cell_type": "code",
   "execution_count": 47,
   "metadata": {},
   "outputs": [
    {
     "data": {
      "text/html": [
       "<div>\n",
       "<style scoped>\n",
       "    .dataframe tbody tr th:only-of-type {\n",
       "        vertical-align: middle;\n",
       "    }\n",
       "\n",
       "    .dataframe tbody tr th {\n",
       "        vertical-align: top;\n",
       "    }\n",
       "\n",
       "    .dataframe thead th {\n",
       "        text-align: right;\n",
       "    }\n",
       "</style>\n",
       "<table border=\"1\" class=\"dataframe\">\n",
       "  <thead>\n",
       "    <tr style=\"text-align: right;\">\n",
       "      <th></th>\n",
       "      <th>裁判字號</th>\n",
       "      <th>裁判日期</th>\n",
       "      <th>裁判案由</th>\n",
       "      <th>內文</th>\n",
       "      <th>主文</th>\n",
       "      <th>是否被駁回</th>\n",
       "    </tr>\n",
       "  </thead>\n",
       "  <tbody>\n",
       "    <tr>\n",
       "      <th>0</th>\n",
       "      <td>\\r\\n                    臺灣高等法院 110 年上易字第 295 號...</td>\n",
       "      <td>\\r\\n                    民國 110 年 06 月 29 日</td>\n",
       "      <td>\\r\\n                    侵權行為損害賠償\\r\\n          ...</td>\n",
       "      <td>\\n\\n\\n\\n臺灣高等法院民事判決110年度上易字第295號上  訴  人  周楷翔  訴...</td>\n",
       "      <td>\\n\\n\\n\\n臺灣高等法院民事判決110年度上易字第295號上  訴  人  周楷翔  訴...</td>\n",
       "      <td>yes</td>\n",
       "    </tr>\n",
       "    <tr>\n",
       "      <th>1</th>\n",
       "      <td>\\r\\n                    臺灣高等法院 109 年上易字第 1122 ...</td>\n",
       "      <td>\\r\\n                    民國 110 年 05 月 26 日</td>\n",
       "      <td>\\r\\n                    損害賠償\\r\\n</td>\n",
       "      <td>\\n\\n\\n\\n臺灣高等法院民事判決109年度上易字第1122號上  訴  人  黃建融  ...</td>\n",
       "      <td>\\n\\n\\n\\n臺灣高等法院民事判決109年度上易字第1122號上  訴  人  黃建融  ...</td>\n",
       "      <td>yes</td>\n",
       "    </tr>\n",
       "    <tr>\n",
       "      <th>2</th>\n",
       "      <td>\\r\\n                    臺灣高等法院 109 年上易字第 275 號...</td>\n",
       "      <td>\\r\\n                    民國 110 年 05 月 26 日</td>\n",
       "      <td>\\r\\n                    侵權行為損害賠償\\r\\n          ...</td>\n",
       "      <td>\\n\\n\\n\\n臺灣高等法院民事判決109年度上易字第275號上訴人即附帶被上訴人  來泰廷...</td>\n",
       "      <td>\\n\\n\\n\\n臺灣高等法院民事判決109年度上易字第275號上訴人即附帶被上訴人  來泰廷...</td>\n",
       "      <td>yes</td>\n",
       "    </tr>\n",
       "    <tr>\n",
       "      <th>3</th>\n",
       "      <td>\\r\\n                    臺灣高等法院 109 年上易字第 1231 ...</td>\n",
       "      <td>\\r\\n                    民國 110 年 05 月 19 日</td>\n",
       "      <td>\\r\\n                    侵權行為損害賠償\\r\\n          ...</td>\n",
       "      <td>\\n\\n\\n\\n臺灣高等法院民事判決109年度上易字第1231號上  訴  人  莊淵棋（兼...</td>\n",
       "      <td>\\n\\n\\n\\n臺灣高等法院民事判決109年度上易字第1231號上  訴  人  莊淵棋（兼...</td>\n",
       "      <td>yes</td>\n",
       "    </tr>\n",
       "    <tr>\n",
       "      <th>4</th>\n",
       "      <td>\\r\\n                    臺灣高等法院 110 年上易字第 107 號...</td>\n",
       "      <td>\\r\\n                    民國 110 年 05 月 12 日</td>\n",
       "      <td>\\r\\n                    損害賠償\\r\\n</td>\n",
       "      <td>\\n\\n\\n\\n臺灣高等法院民事判決110年度上易字第107號上  訴  人  鄭國欽  被...</td>\n",
       "      <td>\\n\\n\\n\\n臺灣高等法院民事判決110年度上易字第107號上  訴  人  鄭國欽  被...</td>\n",
       "      <td>yes</td>\n",
       "    </tr>\n",
       "    <tr>\n",
       "      <th>...</th>\n",
       "      <td>...</td>\n",
       "      <td>...</td>\n",
       "      <td>...</td>\n",
       "      <td>...</td>\n",
       "      <td>...</td>\n",
       "      <td>...</td>\n",
       "    </tr>\n",
       "    <tr>\n",
       "      <th>448</th>\n",
       "      <td>\\r\\n                    臺灣高等法院 103 年上易字第 720 號...</td>\n",
       "      <td>\\r\\n                    民國 104 年 01 月 14 日</td>\n",
       "      <td>\\r\\n                    損害賠償\\r\\n</td>\n",
       "      <td>\\n\\n\\n\\n\\n臺灣高等法院民事判決　　　　　　　　103年度上易字第720號\\r\\n上...</td>\n",
       "      <td>\\r\\n原判決關於駁回被上訴人李美芳後開第二項之訴部分，及該部分\\r\\n假執行之聲請，暨訴訟...</td>\n",
       "      <td>yes</td>\n",
       "    </tr>\n",
       "    <tr>\n",
       "      <th>449</th>\n",
       "      <td>\\r\\n                    臺灣高等法院 102 年上易字第 969 號...</td>\n",
       "      <td>\\r\\n                    民國 104 年 01 月 14 日</td>\n",
       "      <td>\\r\\n                    損害賠償\\r\\n</td>\n",
       "      <td>\\n\\n\\n\\n\\n臺灣高等法院民事判決　　　　　　　　102年度上易字第969號\\r\\n上...</td>\n",
       "      <td>\\n\\n\\n\\n\\n臺灣高等法院民事判決　　　　　　　　102年度上易字第969號\\r\\n上...</td>\n",
       "      <td>yes</td>\n",
       "    </tr>\n",
       "    <tr>\n",
       "      <th>450</th>\n",
       "      <td>\\r\\n                    臺灣高等法院 103 年上易字第 1251 ...</td>\n",
       "      <td>\\r\\n                    民國 104 年 01 月 13 日</td>\n",
       "      <td>\\r\\n                    侵權行為損害賠償\\r\\n          ...</td>\n",
       "      <td>\\n\\n\\n\\n\\n臺灣高等法院民事判決　　　　　　　 103年度上易字第1251號\\r\\n...</td>\n",
       "      <td>\\r\\n原判決關於駁回上訴人後開第二項之訴部分，暨訴訟費用（除確\\r\\n定部分外）之裁判均廢...</td>\n",
       "      <td>yes</td>\n",
       "    </tr>\n",
       "    <tr>\n",
       "      <th>451</th>\n",
       "      <td>\\r\\n                    臺灣高等法院 103 年上易字第 1047 ...</td>\n",
       "      <td>\\r\\n                    民國 104 年 01 月 06 日</td>\n",
       "      <td>\\r\\n                    損害賠償\\r\\n</td>\n",
       "      <td>\\n\\n\\n\\n\\n臺灣高等法院民事判決　　　　　　　 103年度上易字第1047號\\r\\n...</td>\n",
       "      <td>\\n\\n\\n\\n\\n臺灣高等法院民事判決　　　　　　　 103年度上易字第1047號\\r\\n...</td>\n",
       "      <td>yes</td>\n",
       "    </tr>\n",
       "    <tr>\n",
       "      <th>452</th>\n",
       "      <td>\\r\\n                    臺灣高等法院 102 年上字第 1198 號...</td>\n",
       "      <td>\\r\\n                    民國 104 年 01 月 06 日</td>\n",
       "      <td>\\r\\n                    侵權行為損害賠償\\r\\n          ...</td>\n",
       "      <td>\\n\\n\\n\\n\\n臺灣高等法院民事判決　　　　　　　　 102年度上字第1198號\\r\\n...</td>\n",
       "      <td>\\r\\n原判決關於命上訴人給付逾新臺幣壹佰柒拾壹萬零玖佰捌拾伍元\\r\\n本息，及該部分假執行...</td>\n",
       "      <td>yes</td>\n",
       "    </tr>\n",
       "  </tbody>\n",
       "</table>\n",
       "<p>416 rows × 6 columns</p>\n",
       "</div>"
      ],
      "text/plain": [
       "                                                  裁判字號  \\\n",
       "0    \\r\\n                    臺灣高等法院 110 年上易字第 295 號...   \n",
       "1    \\r\\n                    臺灣高等法院 109 年上易字第 1122 ...   \n",
       "2    \\r\\n                    臺灣高等法院 109 年上易字第 275 號...   \n",
       "3    \\r\\n                    臺灣高等法院 109 年上易字第 1231 ...   \n",
       "4    \\r\\n                    臺灣高等法院 110 年上易字第 107 號...   \n",
       "..                                                 ...   \n",
       "448  \\r\\n                    臺灣高等法院 103 年上易字第 720 號...   \n",
       "449  \\r\\n                    臺灣高等法院 102 年上易字第 969 號...   \n",
       "450  \\r\\n                    臺灣高等法院 103 年上易字第 1251 ...   \n",
       "451  \\r\\n                    臺灣高等法院 103 年上易字第 1047 ...   \n",
       "452  \\r\\n                    臺灣高等法院 102 年上字第 1198 號...   \n",
       "\n",
       "                                           裁判日期  \\\n",
       "0    \\r\\n                    民國 110 年 06 月 29 日   \n",
       "1    \\r\\n                    民國 110 年 05 月 26 日   \n",
       "2    \\r\\n                    民國 110 年 05 月 26 日   \n",
       "3    \\r\\n                    民國 110 年 05 月 19 日   \n",
       "4    \\r\\n                    民國 110 年 05 月 12 日   \n",
       "..                                          ...   \n",
       "448  \\r\\n                    民國 104 年 01 月 14 日   \n",
       "449  \\r\\n                    民國 104 年 01 月 14 日   \n",
       "450  \\r\\n                    民國 104 年 01 月 13 日   \n",
       "451  \\r\\n                    民國 104 年 01 月 06 日   \n",
       "452  \\r\\n                    民國 104 年 01 月 06 日   \n",
       "\n",
       "                                                  裁判案由  \\\n",
       "0    \\r\\n                    侵權行為損害賠償\\r\\n          ...   \n",
       "1     \\r\\n                    損害賠償\\r\\n                   \n",
       "2    \\r\\n                    侵權行為損害賠償\\r\\n          ...   \n",
       "3    \\r\\n                    侵權行為損害賠償\\r\\n          ...   \n",
       "4     \\r\\n                    損害賠償\\r\\n                   \n",
       "..                                                 ...   \n",
       "448   \\r\\n                    損害賠償\\r\\n                   \n",
       "449   \\r\\n                    損害賠償\\r\\n                   \n",
       "450  \\r\\n                    侵權行為損害賠償\\r\\n          ...   \n",
       "451   \\r\\n                    損害賠償\\r\\n                   \n",
       "452  \\r\\n                    侵權行為損害賠償\\r\\n          ...   \n",
       "\n",
       "                                                    內文  \\\n",
       "0    \\n\\n\\n\\n臺灣高等法院民事判決110年度上易字第295號上  訴  人  周楷翔  訴...   \n",
       "1    \\n\\n\\n\\n臺灣高等法院民事判決109年度上易字第1122號上  訴  人  黃建融  ...   \n",
       "2    \\n\\n\\n\\n臺灣高等法院民事判決109年度上易字第275號上訴人即附帶被上訴人  來泰廷...   \n",
       "3    \\n\\n\\n\\n臺灣高等法院民事判決109年度上易字第1231號上  訴  人  莊淵棋（兼...   \n",
       "4    \\n\\n\\n\\n臺灣高等法院民事判決110年度上易字第107號上  訴  人  鄭國欽  被...   \n",
       "..                                                 ...   \n",
       "448  \\n\\n\\n\\n\\n臺灣高等法院民事判決　　　　　　　　103年度上易字第720號\\r\\n上...   \n",
       "449  \\n\\n\\n\\n\\n臺灣高等法院民事判決　　　　　　　　102年度上易字第969號\\r\\n上...   \n",
       "450  \\n\\n\\n\\n\\n臺灣高等法院民事判決　　　　　　　 103年度上易字第1251號\\r\\n...   \n",
       "451  \\n\\n\\n\\n\\n臺灣高等法院民事判決　　　　　　　 103年度上易字第1047號\\r\\n...   \n",
       "452  \\n\\n\\n\\n\\n臺灣高等法院民事判決　　　　　　　　 102年度上字第1198號\\r\\n...   \n",
       "\n",
       "                                                    主文 是否被駁回  \n",
       "0    \\n\\n\\n\\n臺灣高等法院民事判決110年度上易字第295號上  訴  人  周楷翔  訴...   yes  \n",
       "1    \\n\\n\\n\\n臺灣高等法院民事判決109年度上易字第1122號上  訴  人  黃建融  ...   yes  \n",
       "2    \\n\\n\\n\\n臺灣高等法院民事判決109年度上易字第275號上訴人即附帶被上訴人  來泰廷...   yes  \n",
       "3    \\n\\n\\n\\n臺灣高等法院民事判決109年度上易字第1231號上  訴  人  莊淵棋（兼...   yes  \n",
       "4    \\n\\n\\n\\n臺灣高等法院民事判決110年度上易字第107號上  訴  人  鄭國欽  被...   yes  \n",
       "..                                                 ...   ...  \n",
       "448  \\r\\n原判決關於駁回被上訴人李美芳後開第二項之訴部分，及該部分\\r\\n假執行之聲請，暨訴訟...   yes  \n",
       "449  \\n\\n\\n\\n\\n臺灣高等法院民事判決　　　　　　　　102年度上易字第969號\\r\\n上...   yes  \n",
       "450  \\r\\n原判決關於駁回上訴人後開第二項之訴部分，暨訴訟費用（除確\\r\\n定部分外）之裁判均廢...   yes  \n",
       "451  \\n\\n\\n\\n\\n臺灣高等法院民事判決　　　　　　　 103年度上易字第1047號\\r\\n...   yes  \n",
       "452  \\r\\n原判決關於命上訴人給付逾新臺幣壹佰柒拾壹萬零玖佰捌拾伍元\\r\\n本息，及該部分假執行...   yes  \n",
       "\n",
       "[416 rows x 6 columns]"
      ]
     },
     "execution_count": 47,
     "metadata": {},
     "output_type": "execute_result"
    }
   ],
   "source": [
    "yes_data"
   ]
  },
  {
   "cell_type": "code",
   "execution_count": 48,
   "metadata": {},
   "outputs": [
    {
     "data": {
      "text/html": [
       "<div>\n",
       "<style scoped>\n",
       "    .dataframe tbody tr th:only-of-type {\n",
       "        vertical-align: middle;\n",
       "    }\n",
       "\n",
       "    .dataframe tbody tr th {\n",
       "        vertical-align: top;\n",
       "    }\n",
       "\n",
       "    .dataframe thead th {\n",
       "        text-align: right;\n",
       "    }\n",
       "</style>\n",
       "<table border=\"1\" class=\"dataframe\">\n",
       "  <thead>\n",
       "    <tr style=\"text-align: right;\">\n",
       "      <th></th>\n",
       "      <th>裁判字號</th>\n",
       "      <th>裁判日期</th>\n",
       "      <th>裁判案由</th>\n",
       "      <th>內文</th>\n",
       "      <th>主文</th>\n",
       "      <th>是否被駁回</th>\n",
       "    </tr>\n",
       "  </thead>\n",
       "  <tbody>\n",
       "    <tr>\n",
       "      <th>67</th>\n",
       "      <td>\\r\\n                    臺灣高等法院 108 年上易字第 1296 ...</td>\n",
       "      <td>\\r\\n                    民國 109 年 04 月 30 日</td>\n",
       "      <td>\\r\\n                    侵權行為損害賠償\\r\\n          ...</td>\n",
       "      <td>\\n\\n\\n\\n臺灣高等法院民事判決108年度上易字第1296號上  訴  人  李金妹  ...</td>\n",
       "      <td>\\n\\n\\n\\n臺灣高等法院民事判決108年度上易字第1296號上  訴  人  李金妹  ...</td>\n",
       "      <td>yes</td>\n",
       "    </tr>\n",
       "    <tr>\n",
       "      <th>236</th>\n",
       "      <td>\\r\\n                    臺灣高等法院 106 年上易字第 383 號...</td>\n",
       "      <td>\\r\\n                    民國 106 年 11 月 14 日</td>\n",
       "      <td>\\r\\n                    損害賠償等\\r\\n</td>\n",
       "      <td>\\n\\n\\n\\n\\n臺灣高等法院民事判決　　　　　　　　106年度上易字第383號\\r\\n上...</td>\n",
       "      <td>\\n\\n\\n\\n\\n臺灣高等法院民事判決　　　　　　　　106年度上易字第383號\\r\\n上...</td>\n",
       "      <td>yes</td>\n",
       "    </tr>\n",
       "    <tr>\n",
       "      <th>294</th>\n",
       "      <td>\\r\\n                    臺灣高等法院 105 年上字第 1135 號...</td>\n",
       "      <td>\\r\\n                    民國 106 年 03 月 15 日</td>\n",
       "      <td>\\r\\n                    損害賠償\\r\\n</td>\n",
       "      <td>\\n\\n\\n\\n\\n臺灣高等法院民事判決　　　　　　　　 105年度上字第1135號\\r\\n...</td>\n",
       "      <td>\\r\\n原判決關於命上訴人給付被上訴人新臺幣壹拾肆萬捌仟玖佰肆拾\\r\\n元本息及該部分假執行...</td>\n",
       "      <td>yes</td>\n",
       "    </tr>\n",
       "    <tr>\n",
       "      <th>344</th>\n",
       "      <td>\\r\\n                    臺灣高等法院 103 年上字第 1363 號...</td>\n",
       "      <td>\\r\\n                    民國 105 年 05 月 17 日</td>\n",
       "      <td>\\r\\n                    損害賠償\\r\\n</td>\n",
       "      <td>\\n\\n\\n\\n\\n臺灣高等法院民事判決　　　　　　　　 103年度上字第1363號\\r\\n...</td>\n",
       "      <td>\\r\\n原判決關於駁回附帶上訴人後開第二項之訴部分，及該部分假執\\r\\n行之聲請暨訴訟費用之...</td>\n",
       "      <td>yes</td>\n",
       "    </tr>\n",
       "    <tr>\n",
       "      <th>402</th>\n",
       "      <td>\\r\\n                    臺灣高等法院 103 年保險上易字第 25 ...</td>\n",
       "      <td>\\r\\n                    民國 104 年 07 月 22 日</td>\n",
       "      <td>\\r\\n                    給付保險金\\r\\n</td>\n",
       "      <td>\\n\\n\\n\\n\\n臺灣高等法院民事判決　　　　　　 103年度保險上易字第25號\\r\\n上...</td>\n",
       "      <td>\\n\\n\\n\\n\\n臺灣高等法院民事判決　　　　　　 103年度保險上易字第25號\\r\\n上...</td>\n",
       "      <td>yes</td>\n",
       "    </tr>\n",
       "    <tr>\n",
       "      <th>438</th>\n",
       "      <td>\\r\\n                    臺灣高等法院 101 年重上字第 392 號...</td>\n",
       "      <td>\\r\\n                    民國 104 年 03 月 31 日</td>\n",
       "      <td>\\r\\n                    損害賠償\\r\\n</td>\n",
       "      <td>\\n\\n\\n\\n\\n臺灣高等法院民事判決　　　　　　　　101年度重上字第392號\\r\\n上...</td>\n",
       "      <td>\\n\\n\\n\\n\\n臺灣高等法院民事判決　　　　　　　　101年度重上字第392號\\r\\n上...</td>\n",
       "      <td>yes</td>\n",
       "    </tr>\n",
       "    <tr>\n",
       "      <th>439</th>\n",
       "      <td>\\r\\n                    臺灣高等法院 103 年上易字第 365 號...</td>\n",
       "      <td>\\r\\n                    民國 104 年 03 月 25 日</td>\n",
       "      <td>\\r\\n                    損害賠償\\r\\n</td>\n",
       "      <td>\\n\\n\\n\\n\\n臺灣高等法院民事判決　　　　　　　　103年度上易字第365號\\r\\n上...</td>\n",
       "      <td>\\n\\n\\n\\n\\n臺灣高等法院民事判決　　　　　　　　103年度上易字第365號\\r\\n上...</td>\n",
       "      <td>yes</td>\n",
       "    </tr>\n",
       "    <tr>\n",
       "      <th>440</th>\n",
       "      <td>\\r\\n                    臺灣高等法院 103 年上字第 712 號民事判決</td>\n",
       "      <td>\\r\\n                    民國 104 年 03 月 24 日</td>\n",
       "      <td>\\r\\n                    損害賠償\\r\\n</td>\n",
       "      <td>\\n\\n\\n\\n\\n臺灣高等法院民事判決　　　　　　　　　103年度上字第712號\\r\\n上...</td>\n",
       "      <td>\\r\\n原判決關於駁回上訴人後開第二項之訴部分，及訴訟費用（除確\\r\\n定部分外）之裁判均廢...</td>\n",
       "      <td>yes</td>\n",
       "    </tr>\n",
       "    <tr>\n",
       "      <th>446</th>\n",
       "      <td>\\r\\n                    臺灣高等法院 102 年上字第 588 號民事判決</td>\n",
       "      <td>\\r\\n                    民國 104 年 01 月 28 日</td>\n",
       "      <td>\\r\\n                    損害賠償\\r\\n</td>\n",
       "      <td>\\n\\n\\n\\n\\n臺灣高等法院民事判決　　　　　　　　　102年度上字第588號\\r\\n上...</td>\n",
       "      <td>\\n\\n\\n\\n\\n臺灣高等法院民事判決　　　　　　　　　102年度上字第588號\\r\\n上...</td>\n",
       "      <td>yes</td>\n",
       "    </tr>\n",
       "  </tbody>\n",
       "</table>\n",
       "</div>"
      ],
      "text/plain": [
       "                                                  裁判字號  \\\n",
       "67   \\r\\n                    臺灣高等法院 108 年上易字第 1296 ...   \n",
       "236  \\r\\n                    臺灣高等法院 106 年上易字第 383 號...   \n",
       "294  \\r\\n                    臺灣高等法院 105 年上字第 1135 號...   \n",
       "344  \\r\\n                    臺灣高等法院 103 年上字第 1363 號...   \n",
       "402  \\r\\n                    臺灣高等法院 103 年保險上易字第 25 ...   \n",
       "438  \\r\\n                    臺灣高等法院 101 年重上字第 392 號...   \n",
       "439  \\r\\n                    臺灣高等法院 103 年上易字第 365 號...   \n",
       "440  \\r\\n                    臺灣高等法院 103 年上字第 712 號民事判決   \n",
       "446  \\r\\n                    臺灣高等法院 102 年上字第 588 號民事判決   \n",
       "\n",
       "                                           裁判日期  \\\n",
       "67   \\r\\n                    民國 109 年 04 月 30 日   \n",
       "236  \\r\\n                    民國 106 年 11 月 14 日   \n",
       "294  \\r\\n                    民國 106 年 03 月 15 日   \n",
       "344  \\r\\n                    民國 105 年 05 月 17 日   \n",
       "402  \\r\\n                    民國 104 年 07 月 22 日   \n",
       "438  \\r\\n                    民國 104 年 03 月 31 日   \n",
       "439  \\r\\n                    民國 104 年 03 月 25 日   \n",
       "440  \\r\\n                    民國 104 年 03 月 24 日   \n",
       "446  \\r\\n                    民國 104 年 01 月 28 日   \n",
       "\n",
       "                                                  裁判案由  \\\n",
       "67   \\r\\n                    侵權行為損害賠償\\r\\n          ...   \n",
       "236  \\r\\n                    損害賠償等\\r\\n                   \n",
       "294   \\r\\n                    損害賠償\\r\\n                   \n",
       "344   \\r\\n                    損害賠償\\r\\n                   \n",
       "402  \\r\\n                    給付保險金\\r\\n                   \n",
       "438   \\r\\n                    損害賠償\\r\\n                   \n",
       "439   \\r\\n                    損害賠償\\r\\n                   \n",
       "440   \\r\\n                    損害賠償\\r\\n                   \n",
       "446   \\r\\n                    損害賠償\\r\\n                   \n",
       "\n",
       "                                                    內文  \\\n",
       "67   \\n\\n\\n\\n臺灣高等法院民事判決108年度上易字第1296號上  訴  人  李金妹  ...   \n",
       "236  \\n\\n\\n\\n\\n臺灣高等法院民事判決　　　　　　　　106年度上易字第383號\\r\\n上...   \n",
       "294  \\n\\n\\n\\n\\n臺灣高等法院民事判決　　　　　　　　 105年度上字第1135號\\r\\n...   \n",
       "344  \\n\\n\\n\\n\\n臺灣高等法院民事判決　　　　　　　　 103年度上字第1363號\\r\\n...   \n",
       "402  \\n\\n\\n\\n\\n臺灣高等法院民事判決　　　　　　 103年度保險上易字第25號\\r\\n上...   \n",
       "438  \\n\\n\\n\\n\\n臺灣高等法院民事判決　　　　　　　　101年度重上字第392號\\r\\n上...   \n",
       "439  \\n\\n\\n\\n\\n臺灣高等法院民事判決　　　　　　　　103年度上易字第365號\\r\\n上...   \n",
       "440  \\n\\n\\n\\n\\n臺灣高等法院民事判決　　　　　　　　　103年度上字第712號\\r\\n上...   \n",
       "446  \\n\\n\\n\\n\\n臺灣高等法院民事判決　　　　　　　　　102年度上字第588號\\r\\n上...   \n",
       "\n",
       "                                                    主文 是否被駁回  \n",
       "67   \\n\\n\\n\\n臺灣高等法院民事判決108年度上易字第1296號上  訴  人  李金妹  ...   yes  \n",
       "236  \\n\\n\\n\\n\\n臺灣高等法院民事判決　　　　　　　　106年度上易字第383號\\r\\n上...   yes  \n",
       "294  \\r\\n原判決關於命上訴人給付被上訴人新臺幣壹拾肆萬捌仟玖佰肆拾\\r\\n元本息及該部分假執行...   yes  \n",
       "344  \\r\\n原判決關於駁回附帶上訴人後開第二項之訴部分，及該部分假執\\r\\n行之聲請暨訴訟費用之...   yes  \n",
       "402  \\n\\n\\n\\n\\n臺灣高等法院民事判決　　　　　　 103年度保險上易字第25號\\r\\n上...   yes  \n",
       "438  \\n\\n\\n\\n\\n臺灣高等法院民事判決　　　　　　　　101年度重上字第392號\\r\\n上...   yes  \n",
       "439  \\n\\n\\n\\n\\n臺灣高等法院民事判決　　　　　　　　103年度上易字第365號\\r\\n上...   yes  \n",
       "440  \\r\\n原判決關於駁回上訴人後開第二項之訴部分，及訴訟費用（除確\\r\\n定部分外）之裁判均廢...   yes  \n",
       "446  \\n\\n\\n\\n\\n臺灣高等法院民事判決　　　　　　　　　102年度上字第588號\\r\\n上...   yes  "
      ]
     },
     "execution_count": 48,
     "metadata": {},
     "output_type": "execute_result"
    }
   ],
   "source": [
    "number_word =data[data[\"主文\"].str.contains(\"酒駕\")]\n",
    "number_word"
   ]
  },
  {
   "cell_type": "code",
   "execution_count": null,
   "metadata": {},
   "outputs": [],
   "source": []
  }
 ],
 "metadata": {
  "colab": {
   "collapsed_sections": [],
   "name": "code3.ipynb",
   "provenance": []
  },
  "kernelspec": {
   "display_name": "Python 3",
   "language": "python",
   "name": "python3"
  },
  "language_info": {
   "codemirror_mode": {
    "name": "ipython",
    "version": 3
   },
   "file_extension": ".py",
   "mimetype": "text/x-python",
   "name": "python",
   "nbconvert_exporter": "python",
   "pygments_lexer": "ipython3",
   "version": "3.7.4"
  }
 },
 "nbformat": 4,
 "nbformat_minor": 1
}
