{
 "cells": [
  {
   "cell_type": "code",
   "execution_count": 167,
   "metadata": {},
   "outputs": [
    {
     "name": "stdout",
     "output_type": "stream",
     "text": [
      "<div class=\"col-td\">\r\n",
      "                    最高法院 110 年台上字第 1421 號民事判決</div>\n"
     ]
    }
   ],
   "source": [
    "from time import sleep        # 爬蟲禮貌，避免對方伺服器無法負荷請求而宕機\n",
    "import requests               # 爬蟲請求\n",
    "import json                   # JSON 資料型態\n",
    "import pandas as pd  # 資料處理套件\n",
    "from bs4 import BeautifulSoup\n",
    "\n",
    "first_clean_list=[]\n",
    "number=[]\n",
    "date=[]\n",
    "reason=[]\n",
    "content=[]\n",
    "\n",
    "for i in range(0,5):\n",
    "    #查找網站\n",
    "    try:\n",
    "        a = str(i).format()\n",
    "        res = requests.get(f'https://law.judicial.gov.tw/FJUD/data.aspx?ro={a}&q=94477f157df7c0901bcc98b6728db315&sort=DS&ot=in')\n",
    "        soup = BeautifulSoup(res.text , 'html.parser')\n",
    "\n",
    "        target_table = soup.find_all(class_='col-td')\n",
    "        if \"裁定\" not in target_table[0].text:\n",
    "            print(target_table[0])\n",
    "            number.append(target_table[0].text)\n",
    "            date.append(target_table[1].text)\n",
    "            reason.append(target_table[2].text)\n",
    "            content.append(target_table[3].text)\n",
    "    except: pass\n",
    "    sleep(1)\n",
    "\n",
    "law_df_list=[]\n",
    "for i in range(len(number)):\n",
    "    law_df_list.append({\n",
    "                            \"裁判字號\": number[i],\n",
    "                            \"裁判日期\": date[i],\n",
    "                            \"裁判案由\":reason[i],\n",
    "                            \"內文\":content[i]})\n",
    "law_df = pd.DataFrame.from_dict(law_df_list)"
   ]
  },
  {
   "cell_type": "code",
   "execution_count": 168,
   "metadata": {},
   "outputs": [
    {
     "data": {
      "text/html": [
       "<div>\n",
       "<style scoped>\n",
       "    .dataframe tbody tr th:only-of-type {\n",
       "        vertical-align: middle;\n",
       "    }\n",
       "\n",
       "    .dataframe tbody tr th {\n",
       "        vertical-align: top;\n",
       "    }\n",
       "\n",
       "    .dataframe thead th {\n",
       "        text-align: right;\n",
       "    }\n",
       "</style>\n",
       "<table border=\"1\" class=\"dataframe\">\n",
       "  <thead>\n",
       "    <tr style=\"text-align: right;\">\n",
       "      <th></th>\n",
       "      <th>裁判字號</th>\n",
       "      <th>裁判日期</th>\n",
       "      <th>裁判案由</th>\n",
       "      <th>內文</th>\n",
       "    </tr>\n",
       "  </thead>\n",
       "  <tbody>\n",
       "    <tr>\n",
       "      <th>0</th>\n",
       "      <td>\\r\\n                    最高法院 110 年台上字第 1421 號民事判決</td>\n",
       "      <td>\\r\\n                    民國 110 年 06 月 17 日</td>\n",
       "      <td>\\r\\n                    請求損害賠償\\r\\n            ...</td>\n",
       "      <td>\\n\\n\\n\\n\\n最高法院民事判決　　　　　　　　　　110年度台上字第1421號\\r\\n...</td>\n",
       "    </tr>\n",
       "  </tbody>\n",
       "</table>\n",
       "</div>"
      ],
      "text/plain": [
       "                                                裁判字號  \\\n",
       "0  \\r\\n                    最高法院 110 年台上字第 1421 號民事判決   \n",
       "\n",
       "                                         裁判日期  \\\n",
       "0  \\r\\n                    民國 110 年 06 月 17 日   \n",
       "\n",
       "                                                裁判案由  \\\n",
       "0  \\r\\n                    請求損害賠償\\r\\n            ...   \n",
       "\n",
       "                                                  內文  \n",
       "0  \\n\\n\\n\\n\\n最高法院民事判決　　　　　　　　　　110年度台上字第1421號\\r\\n...  "
      ]
     },
     "execution_count": 168,
     "metadata": {},
     "output_type": "execute_result"
    }
   ],
   "source": [
    "law_df"
   ]
  },
  {
   "cell_type": "code",
   "execution_count": 84,
   "metadata": {},
   "outputs": [
    {
     "data": {
      "text/plain": [
       "'\\n\\n\\n\\n\\n最高法院民事裁定\\u3000\\u3000\\u3000\\u3000\\u3000\\u3000\\u3000\\u3000\\u3000 109年度台上字第2893號\\r\\n上\\u3000訴\\u3000人\\u3000中國貿易開發有限公司\\r\\n \\r\\n法定代理人\\u3000楊弼涵\\r\\n上\\u3000訴\\u3000人\\u3000步永成\\r\\n共\\u3000\\u3000\\u3000同\\r\\n訴訟代理人\\u3000康皓智律師\\r\\n被 上訴 人\\u3000許富堯\\r\\n法定代理人\\u3000許玉美\\r\\n訴訟代理人\\u3000沈晉瑋律師\\r\\n\\u3000\\u3000\\u3000\\u3000\\u3000\\u3000邱邦傑律師\\r\\n上列當事人間請求侵權行為損害賠償事件，上訴人對於中華民國\\r\\n109年7月15日臺灣高等法院第二審判決（108年度上字第1281 號\\r\\n），提起上訴，本院裁定如下：\\r\\n    主  文\\n上訴駁回。\\r\\n第三審訴訟費用由上訴人負擔。\\r\\n    理  由\\r\\n按上訴第三審法院，非以原判決違背法令為理由，不得為之。又\\r\\n提起上訴，上訴狀內應記載上訴理由，其以民事訴訟法第469 條\\r\\n所定事由提起第三審上訴者，應於上訴狀內表明原判決所違背之\\r\\n法令及其具體內容、暨依訴訟資料合於該違背法令之具體事實。\\r\\n其依同法第469條之1規定提起上訴者，並應具體敘述為從事法之\\r\\n續造、確保裁判之一致性或其他所涉及之法律見解具有原則上重\\r\\n要性之理由。同法第467條、第470條第2 項分別定有明文。而依\\r\\n同法第468 條規定，判決不適用法規或適用不當者，為違背法令\\r\\n；依同法第469 條規定，判決有該條所列各款情形之一者，為當\\r\\n然違背法令。是當事人提起第三審上訴，如合併以同法第469 條\\r\\n及第469條之1之事由為上訴理由時，其上訴狀或理由書應表明該\\r\\n判決所違背之法令條項，有關之司法院大法官解釋，或成文法以\\r\\n外之習慣或法理等及其具體內容，暨係依何訴訟資料合於該違背\\r\\n法令之具體事實，並具體敘述為從事法之續造、確保裁判之一致\\r\\n性或其他所涉及之法律見解具有原則上重要性之理由。如未依上\\r\\n述方法表明，或其所表明者與上開法條規定不合時，即難認為已\\r\\n合法表明上訴理由，其上訴自非合法。本件上訴人對於原判決提\\r\\n起第三審上訴，雖以該判決違背法令為由，惟核其上訴理由狀所\\r\\n載內容，係就原審取捨證據、認定事實之職權行使所論斷：上訴\\r\\n人中國貿易開發有限公司之受僱人即上訴人步永成，於民國 107\\r\\n年5月23 日因執行職務駕車疏失而發生系爭車禍，其就該車禍之\\r\\n發生應負過失責任。被上訴人因系爭車禍而受有創傷性蜘蛛網膜\\r\\n下出血、小腦創傷性出血、急性呼吸衰竭併呼吸器依賴狀態，目\\r\\n前意識呈深度昏迷，中樞神經系統機能遺存極度障害等傷害，為\\r\\n維持生命必要之日常活動，需由專人長期照護，並經常需要醫療\\r\\n護理。而被上訴人於益民醫院住院期間，曾因氣切口撕裂流血不\\r\\n止、泌尿道感染發燒等症狀，數次緊急轉至醫療財團法人徐元智\\r\\n先生醫藥基金會亞東紀念醫院急診，足見益民醫院對被上訴人之\\r\\n醫療需求確有不足，是被上訴人自108年3月6 日轉入三軍總醫院\\r\\n呼吸照護病房，符合其醫療及照護之需求，且有必要等情，指摘\\r\\n其為不當，並就原審命為辯論及已論斷者，泛言謂為違法，而非\\r\\n表明該判決所違背之法令及其具體內容，暨依訴訟資料合於該違\\r\\n背法令之具體事實，更未具體敘述為從事法之續造、確保裁判之\\r\\n一致性或其他所涉及之法律見解具有原則上重要性之理由，難認\\r\\n其已合法表明上訴理由。依首揭說明，應認其上訴為不合法。\\r\\n據上論結，本件上訴為不合法。依民事訴訟法第481條、第444條\\r\\n第1項、第95條、第78條，裁定如主文。\\r\\n中    華    民    國   109    年    10    月    30    日\\r\\n                      最高法院民事第三庭\\r\\n                          審判長法官  高  孟  焄  \\r\\n                                法官  邱  璿  如  \\r\\n                                法官  徐  福  晋  \\r\\n                                法官  陳  靜  芬  \\r\\n                                法官  彭  昭  芬  \\r\\n本件正本證明與原本無異\\r\\n                                      書  記  官 \\r\\n中    華    民    國   109    年    11    月    2     日\\r\\n\\n\\n\\n\\n\\n\\n\\n\\n\\n\\n\\n\\n'"
      ]
     },
     "execution_count": 84,
     "metadata": {},
     "output_type": "execute_result"
    }
   ],
   "source": [
    "df[\"內文\"][0]"
   ]
  },
  {
   "cell_type": "code",
   "execution_count": 157,
   "metadata": {},
   "outputs": [
    {
     "data": {
      "text/plain": [
       "273"
      ]
     },
     "execution_count": 157,
     "metadata": {},
     "output_type": "execute_result"
    }
   ],
   "source": [
    "len(number)"
   ]
  },
  {
   "cell_type": "code",
   "execution_count": 174,
   "metadata": {},
   "outputs": [
    {
     "ename": "PermissionError",
     "evalue": "[Errno 13] Permission denied: 'law1.csv'",
     "output_type": "error",
     "traceback": [
      "\u001b[1;31m---------------------------------------------------------------------------\u001b[0m",
      "\u001b[1;31mPermissionError\u001b[0m                           Traceback (most recent call last)",
      "\u001b[1;32m<ipython-input-174-c18b5458d5f6>\u001b[0m in \u001b[0;36m<module>\u001b[1;34m\u001b[0m\n\u001b[1;32m----> 1\u001b[1;33m \u001b[0mapple_df\u001b[0m\u001b[1;33m.\u001b[0m\u001b[0mto_csv\u001b[0m\u001b[1;33m(\u001b[0m\u001b[1;34m'law1.csv'\u001b[0m\u001b[1;33m)\u001b[0m\u001b[1;33m\u001b[0m\u001b[1;33m\u001b[0m\u001b[0m\n\u001b[0m",
      "\u001b[1;32mC:\\ProgramData\\Anaconda3\\lib\\site-packages\\pandas\\core\\generic.py\u001b[0m in \u001b[0;36mto_csv\u001b[1;34m(self, path_or_buf, sep, na_rep, float_format, columns, header, index, index_label, mode, encoding, compression, quoting, quotechar, line_terminator, chunksize, date_format, doublequote, escapechar, decimal, errors, storage_options)\u001b[0m\n\u001b[0;32m   3401\u001b[0m             \u001b[0mdoublequote\u001b[0m\u001b[1;33m=\u001b[0m\u001b[0mdoublequote\u001b[0m\u001b[1;33m,\u001b[0m\u001b[1;33m\u001b[0m\u001b[1;33m\u001b[0m\u001b[0m\n\u001b[0;32m   3402\u001b[0m             \u001b[0mescapechar\u001b[0m\u001b[1;33m=\u001b[0m\u001b[0mescapechar\u001b[0m\u001b[1;33m,\u001b[0m\u001b[1;33m\u001b[0m\u001b[1;33m\u001b[0m\u001b[0m\n\u001b[1;32m-> 3403\u001b[1;33m             \u001b[0mstorage_options\u001b[0m\u001b[1;33m=\u001b[0m\u001b[0mstorage_options\u001b[0m\u001b[1;33m,\u001b[0m\u001b[1;33m\u001b[0m\u001b[1;33m\u001b[0m\u001b[0m\n\u001b[0m\u001b[0;32m   3404\u001b[0m         )\n\u001b[0;32m   3405\u001b[0m \u001b[1;33m\u001b[0m\u001b[0m\n",
      "\u001b[1;32mC:\\ProgramData\\Anaconda3\\lib\\site-packages\\pandas\\io\\formats\\format.py\u001b[0m in \u001b[0;36mto_csv\u001b[1;34m(self, path_or_buf, encoding, sep, columns, index_label, mode, compression, quoting, quotechar, line_terminator, chunksize, date_format, doublequote, escapechar, errors, storage_options)\u001b[0m\n\u001b[0;32m   1081\u001b[0m             \u001b[0mformatter\u001b[0m\u001b[1;33m=\u001b[0m\u001b[0mself\u001b[0m\u001b[1;33m.\u001b[0m\u001b[0mfmt\u001b[0m\u001b[1;33m,\u001b[0m\u001b[1;33m\u001b[0m\u001b[1;33m\u001b[0m\u001b[0m\n\u001b[0;32m   1082\u001b[0m         )\n\u001b[1;32m-> 1083\u001b[1;33m         \u001b[0mcsv_formatter\u001b[0m\u001b[1;33m.\u001b[0m\u001b[0msave\u001b[0m\u001b[1;33m(\u001b[0m\u001b[1;33m)\u001b[0m\u001b[1;33m\u001b[0m\u001b[1;33m\u001b[0m\u001b[0m\n\u001b[0m\u001b[0;32m   1084\u001b[0m \u001b[1;33m\u001b[0m\u001b[0m\n\u001b[0;32m   1085\u001b[0m         \u001b[1;32mif\u001b[0m \u001b[0mcreated_buffer\u001b[0m\u001b[1;33m:\u001b[0m\u001b[1;33m\u001b[0m\u001b[1;33m\u001b[0m\u001b[0m\n",
      "\u001b[1;32mC:\\ProgramData\\Anaconda3\\lib\\site-packages\\pandas\\io\\formats\\csvs.py\u001b[0m in \u001b[0;36msave\u001b[1;34m(self)\u001b[0m\n\u001b[0;32m    232\u001b[0m             \u001b[0merrors\u001b[0m\u001b[1;33m=\u001b[0m\u001b[0mself\u001b[0m\u001b[1;33m.\u001b[0m\u001b[0merrors\u001b[0m\u001b[1;33m,\u001b[0m\u001b[1;33m\u001b[0m\u001b[1;33m\u001b[0m\u001b[0m\n\u001b[0;32m    233\u001b[0m             \u001b[0mcompression\u001b[0m\u001b[1;33m=\u001b[0m\u001b[0mself\u001b[0m\u001b[1;33m.\u001b[0m\u001b[0mcompression\u001b[0m\u001b[1;33m,\u001b[0m\u001b[1;33m\u001b[0m\u001b[1;33m\u001b[0m\u001b[0m\n\u001b[1;32m--> 234\u001b[1;33m             \u001b[0mstorage_options\u001b[0m\u001b[1;33m=\u001b[0m\u001b[0mself\u001b[0m\u001b[1;33m.\u001b[0m\u001b[0mstorage_options\u001b[0m\u001b[1;33m,\u001b[0m\u001b[1;33m\u001b[0m\u001b[1;33m\u001b[0m\u001b[0m\n\u001b[0m\u001b[0;32m    235\u001b[0m         ) as handles:\n\u001b[0;32m    236\u001b[0m \u001b[1;33m\u001b[0m\u001b[0m\n",
      "\u001b[1;32mC:\\ProgramData\\Anaconda3\\lib\\site-packages\\pandas\\io\\common.py\u001b[0m in \u001b[0;36mget_handle\u001b[1;34m(path_or_buf, mode, encoding, compression, memory_map, is_text, errors, storage_options)\u001b[0m\n\u001b[0;32m    645\u001b[0m                 \u001b[0mencoding\u001b[0m\u001b[1;33m=\u001b[0m\u001b[0mioargs\u001b[0m\u001b[1;33m.\u001b[0m\u001b[0mencoding\u001b[0m\u001b[1;33m,\u001b[0m\u001b[1;33m\u001b[0m\u001b[1;33m\u001b[0m\u001b[0m\n\u001b[0;32m    646\u001b[0m                 \u001b[0merrors\u001b[0m\u001b[1;33m=\u001b[0m\u001b[0merrors\u001b[0m\u001b[1;33m,\u001b[0m\u001b[1;33m\u001b[0m\u001b[1;33m\u001b[0m\u001b[0m\n\u001b[1;32m--> 647\u001b[1;33m                 \u001b[0mnewline\u001b[0m\u001b[1;33m=\u001b[0m\u001b[1;34m\"\"\u001b[0m\u001b[1;33m,\u001b[0m\u001b[1;33m\u001b[0m\u001b[1;33m\u001b[0m\u001b[0m\n\u001b[0m\u001b[0;32m    648\u001b[0m             )\n\u001b[0;32m    649\u001b[0m         \u001b[1;32melse\u001b[0m\u001b[1;33m:\u001b[0m\u001b[1;33m\u001b[0m\u001b[1;33m\u001b[0m\u001b[0m\n",
      "\u001b[1;31mPermissionError\u001b[0m: [Errno 13] Permission denied: 'law1.csv'"
     ]
    }
   ],
   "source": [
    "apple_df.to_csv('law1.csv')"
   ]
  },
  {
   "cell_type": "code",
   "execution_count": null,
   "metadata": {},
   "outputs": [],
   "source": []
  }
 ],
 "metadata": {
  "kernelspec": {
   "display_name": "Python 3",
   "language": "python",
   "name": "python3"
  },
  "language_info": {
   "codemirror_mode": {
    "name": "ipython",
    "version": 3
   },
   "file_extension": ".py",
   "mimetype": "text/x-python",
   "name": "python",
   "nbconvert_exporter": "python",
   "pygments_lexer": "ipython3",
   "version": "3.7.4"
  }
 },
 "nbformat": 4,
 "nbformat_minor": 2
}
